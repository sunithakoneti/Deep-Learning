{
 "cells": [
  {
   "cell_type": "markdown",
   "id": "8bf6e2e2",
   "metadata": {},
   "source": [
    "## Create a Puthon function which takes n number of binary inputs and gives binary outputs based on AND and OR."
   ]
  },
  {
   "cell_type": "code",
   "execution_count": 14,
   "id": "5c96bc5b",
   "metadata": {},
   "outputs": [
    {
     "name": "stdout",
     "output_type": "stream",
     "text": [
      "AND function Output: 0\n",
      "OR function Output: 1\n"
     ]
    }
   ],
   "source": [
    "def and_fun(*args):\n",
    "    if any(x not in [0, 1] for x in args):\n",
    "        raise ValueError(\"Inputs should be binary (0 or 1)\")\n",
    "    if all(args):\n",
    "        return 1\n",
    "    else:\n",
    "        return 0\n",
    "def or_fun(*args):\n",
    "    if any(args):\n",
    "        return 1\n",
    "    else:\n",
    "        return 0\n",
    "input1 = 1\n",
    "input2 = 0\n",
    "input3 = 0\n",
    "input4 = 1\n",
    "and_result = and_fun(input1, input2, input3,input4)\n",
    "or_result = or_fun(input1, input2, input3,input4)\n",
    "\n",
    "print(\"AND function Output:\", and_result)\n",
    "print(\"OR function Output:\", or_result)\n"
   ]
  },
  {
   "cell_type": "markdown",
   "id": "eae4cdd0",
   "metadata": {},
   "source": [
    "\n",
    "## Task :- \n",
    "\n",
    "#### Create a MCP based neuron with the help of (Functions  or Class) \n",
    "\n",
    "#### Here your activation function should be and,or and your inputs can be in n-dimensional\n",
    "\n",
    "#### Your function should work for both and as well as for or\n"
   ]
  },
  {
   "cell_type": "code",
   "execution_count": 16,
   "id": "f9831d5e",
   "metadata": {},
   "outputs": [
    {
     "name": "stdout",
     "output_type": "stream",
     "text": [
      "AND function Output: 0\n",
      "OR function Output: 1\n"
     ]
    }
   ],
   "source": [
    "def mcp_neuron(*args,operation):\n",
    "    if any(x not in [0, 1] for x in args):\n",
    "        raise ValueError(\"Inputs should be binary (0 or 1)\")\n",
    "    if operation == 'and':\n",
    "        if all(args):\n",
    "            return 1\n",
    "        else:\n",
    "            return 0\n",
    "    elif operation == 'or':\n",
    "        if any(args):\n",
    "            return 1\n",
    "        else:\n",
    "            return 0\n",
    "    else:\n",
    "        raise ValueError(\"Unsupported Operation\")\n",
    "input1 = 1\n",
    "input2 = 0\n",
    "input3 = 0\n",
    "input4 = 1\n",
    "\n",
    "and_result = mcp_neuron(input1, input2, input3,input4,operation='and')\n",
    "or_result = mcp_neuron(input1, input2, input3,input4,operation='or')\n",
    "\n",
    "print(\"AND function Output:\", and_result)\n",
    "print(\"OR function Output:\", or_result)\n",
    " \n",
    "    "
   ]
  },
  {
   "cell_type": "code",
   "execution_count": 1,
   "id": "838a09ba",
   "metadata": {},
   "outputs": [
    {
     "name": "stdout",
     "output_type": "stream",
     "text": [
      "AND function Output: 0\n",
      "OR function Output: 1\n"
     ]
    }
   ],
   "source": [
    "def mcp_neuron(*args, threshold, operation):\n",
    "    if any(x not in [0, 1] for x in args):\n",
    "        raise ValueError(\"Inputs should be binary (0 or 1)\")\n",
    "    aggregated_sum = sum(args)\n",
    "\n",
    "    if operation == 'and':\n",
    "        return 1 if aggregated_sum >= threshold else 0\n",
    "    elif operation == 'or':\n",
    "        return 1 if aggregated_sum > threshold else 0\n",
    "    else:\n",
    "        raise ValueError(\"Unsupported operation\")\n",
    "inputs = [1, 0]\n",
    "and_threshold = len(inputs)\n",
    "result_and = mcp_neuron(*inputs, threshold=and_threshold, operation='and')\n",
    "print(\"AND function Output:\", result_and)\n",
    "\n",
    "or_threshold = 1\n",
    "inputs = [1, 1] \n",
    "result_or = mcp_neuron(*inputs, threshold=or_threshold, operation='or')\n",
    "print(\"OR function Output:\", result_or)\n"
   ]
  }
 ],
 "metadata": {
  "kernelspec": {
   "display_name": "Python 3 (ipykernel)",
   "language": "python",
   "name": "python3"
  },
  "language_info": {
   "codemirror_mode": {
    "name": "ipython",
    "version": 3
   },
   "file_extension": ".py",
   "mimetype": "text/x-python",
   "name": "python",
   "nbconvert_exporter": "python",
   "pygments_lexer": "ipython3",
   "version": "3.9.13"
  }
 },
 "nbformat": 4,
 "nbformat_minor": 5
}
