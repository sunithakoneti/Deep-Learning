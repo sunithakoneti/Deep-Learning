{
 "cells": [
  {
   "cell_type": "code",
   "execution_count": 21,
   "id": "72e0021f",
   "metadata": {},
   "outputs": [],
   "source": [
    "import tensorflow\n",
    "import keras \n",
    "from keras.models import Sequential\n",
    "from keras.layers import Input,Flatten,Conv2D,MaxPooling2D,Dense\n",
    "from keras.utils import image_dataset_from_directory\n",
    "import matplotlib.pyplot as plt "
   ]
  },
  {
   "cell_type": "code",
   "execution_count": 22,
   "id": "803c0e41",
   "metadata": {},
   "outputs": [
    {
     "name": "stdout",
     "output_type": "stream",
     "text": [
      "Found 13642 files belonging to 14 classes.\n"
     ]
    }
   ],
   "source": [
    "train=image_dataset_from_directory(r\"D:\\edu\\INNO\\Deep_Learning\\Assignments\\data\\fower_classification_dataset\\train\",\n",
    "                                  labels=\"inferred\",label_mode=\"int\",batch_size=32,image_size=(300,300),color_mode=\"rgb\")\n",
    "#we can include class_names=[listof classes names in which oredr we want],otherwise classes will be sorted in alphabetical order\n"
   ]
  },
  {
   "cell_type": "code",
   "execution_count": 23,
   "id": "e89b2435",
   "metadata": {},
   "outputs": [
    {
     "name": "stdout",
     "output_type": "stream",
     "text": [
      "Found 98 files belonging to 14 classes.\n"
     ]
    }
   ],
   "source": [
    "valid=image_dataset_from_directory(r\"D:\\edu\\INNO\\Deep_Learning\\Assignments\\data\\fower_classification_dataset\\val\",\n",
    "                                  labels=\"inferred\",label_mode=\"int\",batch_size=32,image_size=(300,300),color_mode=\"rgb\")  "
   ]
  },
  {
   "cell_type": "markdown",
   "id": "1838805f",
   "metadata": {},
   "source": [
    "#### All the values in each pixel is from 0 to 255. We divide it by 255 to make it in the range of 0 to 1."
   ]
  },
  {
   "cell_type": "code",
   "execution_count": 24,
   "id": "dfbe4610",
   "metadata": {},
   "outputs": [],
   "source": [
    "trainf=train.map(lambda image,label:(image/255,label)) "
   ]
  },
  {
   "cell_type": "code",
   "execution_count": 25,
   "id": "bf076064",
   "metadata": {},
   "outputs": [],
   "source": [
    "validf=valid.map(lambda image,label:(image/255,label)) "
   ]
  },
  {
   "cell_type": "markdown",
   "id": "2d087b4e",
   "metadata": {},
   "source": [
    "#### building the logical structure \n",
    "- first we will make the cnn architecture that will conists of pooling layer,convolutional layer,number of strides,padding"
   ]
  },
  {
   "cell_type": "code",
   "execution_count": 26,
   "id": "a8ef52ec",
   "metadata": {},
   "outputs": [],
   "source": [
    "model=Sequential()\n",
    "\n",
    "#adding input layer\n",
    "model.add(Input(shape=(300,300,3)))#image is in rgb format \n",
    "\n",
    "#adding first convolutional layer \n",
    "model.add(Conv2D(10,(5,5),strides=(1,1),padding=\"valid\",activation=\"relu\"))\n",
    "#adding first pooling layer\n",
    "model.add(MaxPooling2D(pool_size=(2,2),strides=(1,1)))\n",
    "\n",
    "#adding second convolutional layer \n",
    "model.add(Conv2D(30,(5,5),strides=(1,1),padding=\"valid\",activation=\"relu\"))\n",
    "#adding second pooling layer\n",
    "model.add(MaxPooling2D(pool_size=(2,2),strides=(1,1)))\n",
    "\n",
    "#flattening\n",
    "model.add(Flatten())\n",
    "\n",
    "#adding dense layers\n",
    "model.add(Dense(40,activation=\"relu\"))\n",
    "model.add(Dense(14,activation=\"softmax\"))\n"
   ]
  },
  {
   "cell_type": "code",
   "execution_count": 41,
   "id": "049813f6",
   "metadata": {},
   "outputs": [
    {
     "name": "stdout",
     "output_type": "stream",
     "text": [
      "Model: \"sequential_6\"\n",
      "_________________________________________________________________\n",
      " Layer (type)                Output Shape              Param #   \n",
      "=================================================================\n",
      " conv2d_7 (Conv2D)           (None, 296, 296, 10)      760       \n",
      "                                                                 \n",
      " max_pooling2d_7 (MaxPoolin  (None, 295, 295, 10)      0         \n",
      " g2D)                                                            \n",
      "                                                                 \n",
      " conv2d_8 (Conv2D)           (None, 291, 291, 30)      7530      \n",
      "                                                                 \n",
      " max_pooling2d_8 (MaxPoolin  (None, 290, 290, 30)      0         \n",
      " g2D)                                                            \n",
      "                                                                 \n",
      " flatten_2 (Flatten)         (None, 2523000)           0         \n",
      "                                                                 \n",
      " dense_2 (Dense)             (None, 40)                100920040 \n",
      "                                                                 \n",
      " dense_3 (Dense)             (None, 14)                574       \n",
      "                                                                 \n",
      "=================================================================\n",
      "Total params: 100928904 (385.01 MB)\n",
      "Trainable params: 100928904 (385.01 MB)\n",
      "Non-trainable params: 0 (0.00 Byte)\n",
      "_________________________________________________________________\n"
     ]
    }
   ],
   "source": [
    "model.summary()"
   ]
  },
  {
   "cell_type": "code",
   "execution_count": 27,
   "id": "359cdce2",
   "metadata": {},
   "outputs": [],
   "source": [
    "model.compile(loss=\"sparse_categorical_crossentropy\",optimizer=\"adam\",metrics=\"accuracy\")"
   ]
  },
  {
   "cell_type": "code",
   "execution_count": 28,
   "id": "86173949",
   "metadata": {},
   "outputs": [
    {
     "name": "stdout",
     "output_type": "stream",
     "text": [
      "Epoch 1/5\n",
      "427/427 [==============================] - 3184s 7s/step - loss: 3.4557 - accuracy: 0.1776 - val_loss: 2.2412 - val_accuracy: 0.1531\n",
      "Epoch 2/5\n",
      "427/427 [==============================] - 2959s 7s/step - loss: 1.8552 - accuracy: 0.3831 - val_loss: 2.0387 - val_accuracy: 0.3776\n",
      "Epoch 3/5\n",
      "427/427 [==============================] - 2916s 7s/step - loss: 1.1479 - accuracy: 0.6264 - val_loss: 2.0448 - val_accuracy: 0.4388\n",
      "Epoch 4/5\n",
      "427/427 [==============================] - 2645s 6s/step - loss: 0.6023 - accuracy: 0.8093 - val_loss: 2.7832 - val_accuracy: 0.4898\n",
      "Epoch 5/5\n",
      "427/427 [==============================] - 3070s 7s/step - loss: 0.3060 - accuracy: 0.9047 - val_loss: 3.9437 - val_accuracy: 0.3980\n"
     ]
    },
    {
     "data": {
      "text/plain": [
       "<keras.src.callbacks.History at 0x1d87caea450>"
      ]
     },
     "execution_count": 28,
     "metadata": {},
     "output_type": "execute_result"
    }
   ],
   "source": [
    "history=model.fit(trainf,epochs=5,validation_data=validf)\n",
    "history "
   ]
  },
  {
   "cell_type": "code",
   "execution_count": 29,
   "id": "299980cd",
   "metadata": {},
   "outputs": [
    {
     "data": {
      "image/png": "[encoded data removed]",
      "text/plain": [
       "<Figure size 640x480 with 1 Axes>"
      ]
     },
     "metadata": {},
     "output_type": "display_data"
    }
   ],
   "source": [
    "# Plot training and validation loss\n",
    "plt.plot(history.history['loss'], label='Train Loss')\n",
    "plt.plot(history.history['val_loss'], label='Validation Loss')\n",
    "plt.xlabel('Epochs')\n",
    "plt.ylabel('Loss')\n",
    "plt.legend()\n",
    "plt.show()"
   ]
  },
  {
   "cell_type": "code",
   "execution_count": 31,
   "id": "f7346361",
   "metadata": {},
   "outputs": [
    {
     "name": "stdout",
     "output_type": "stream",
     "text": [
      "4/4 [==============================] - 5s 932ms/step\n"
     ]
    },
    {
     "data": {
      "text/plain": [
       "array([[8.29205674e-04, 1.37768131e-06, 1.04107805e-20, ...,\n",
       "        1.10744203e-09, 8.81977677e-01, 2.00861606e-07],\n",
       "       [1.12689717e-03, 2.62441844e-01, 1.13267617e-15, ...,\n",
       "        4.23932076e-16, 6.29282921e-13, 2.82311719e-02],\n",
       "       [7.10316783e-07, 1.24506641e-03, 2.32476177e-05, ...,\n",
       "        6.30960076e-11, 1.23802602e-09, 4.77345056e-05],\n",
       "       ...,\n",
       "       [1.36684546e-14, 1.36568774e-15, 4.54781681e-01, ...,\n",
       "        5.36423147e-01, 7.61539610e-22, 1.79222674e-12],\n",
       "       [1.45330958e-07, 3.31803740e-09, 9.33146917e-25, ...,\n",
       "        6.05231230e-12, 3.44795763e-12, 9.99019146e-01],\n",
       "       [9.52760458e-01, 4.23220539e-04, 5.00902515e-16, ...,\n",
       "        1.58065359e-06, 1.74619108e-05, 9.70010738e-10]], dtype=float32)"
      ]
     },
     "execution_count": 31,
     "metadata": {},
     "output_type": "execute_result"
    }
   ],
   "source": [
    "predicted=model.predict(validf)\n",
    "predicted "
   ]
  },
  {
   "cell_type": "code",
   "execution_count": 33,
   "id": "dbf0342d",
   "metadata": {},
   "outputs": [],
   "source": [
    "import numpy as np "
   ]
  },
  {
   "cell_type": "code",
   "execution_count": 34,
   "id": "83aaa125",
   "metadata": {},
   "outputs": [],
   "source": [
    "predicted=np.argmax(predicted,axis=1)"
   ]
  },
  {
   "cell_type": "code",
   "execution_count": 35,
   "id": "96b88c13",
   "metadata": {},
   "outputs": [
    {
     "data": {
      "text/plain": [
       "array([12,  6,  8,  4,  1,  3, 13,  6, 12,  2,  4,  2,  1, 12,  2,  8,  2,\n",
       "       10,  3,  9,  1,  1,  3,  5,  2,  3, 12,  8,  3, 10,  9,  0,  8,  8,\n",
       "        9,  9,  5,  9, 13,  2, 13,  9,  8,  7,  4,  3,  7,  9,  8,  8,  1,\n",
       "        0,  4, 11,  8, 10,  1,  3,  3,  9, 10,  3,  5,  3, 13, 13,  5,  2,\n",
       "       11,  2,  3,  6,  3, 12,  2,  5,  6,  1,  9,  2, 10,  8,  5,  8,  3,\n",
       "        2,  1,  1,  8,  0,  1, 10, 12,  9, 13, 11, 13,  0], dtype=int64)"
      ]
     },
     "execution_count": 35,
     "metadata": {},
     "output_type": "execute_result"
    }
   ],
   "source": [
    "predicted"
   ]
  },
  {
   "cell_type": "code",
   "execution_count": null,
   "id": "d232115b",
   "metadata": {},
   "outputs": [],
   "source": []
  }
 ],
 "metadata": {
  "kernelspec": {
   "display_name": "Python 3 (ipykernel)",
   "language": "python",
   "name": "python3"
  },
  "language_info": {
   "codemirror_mode": {
    "name": "ipython",
    "version": 3
   },
   "file_extension": ".py",
   "mimetype": "text/x-python",
   "name": "python",
   "nbconvert_exporter": "python",
   "pygments_lexer": "ipython3",
   "version": "3.9.13"
  }
 },
 "nbformat": 4,
 "nbformat_minor": 5
}
