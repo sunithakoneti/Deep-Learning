{
 "cells": [
  {
   "cell_type": "code",
   "execution_count": 1,
   "id": "51905d0e",
   "metadata": {},
   "outputs": [],
   "source": [
    "import cv2\n",
    "import numpy as np\n",
    "import matplotlib.pyplot as plt"
   ]
  },
  {
   "cell_type": "code",
   "execution_count": 2,
   "id": "6ce89512",
   "metadata": {},
   "outputs": [],
   "source": [
    "dataset=[]\n",
    "def draw(event,x,y,flag,param):\n",
    "    if event == cv2.EVENT_FLAG_LBUTTON:\n",
    "        dataset.append((x,y,0))\n",
    "        cv2.circle(img,(x,y),10,(255,0,0),3)\n",
    "    elif event == cv2.EVENT_FLAG_RBUTTON:\n",
    "        dataset.append((x,y,1))\n",
    "        cv2.circle(img,(x,y),10,(0,255,0),3)\n",
    "        "
   ]
  },
  {
   "cell_type": "code",
   "execution_count": 3,
   "id": "07460cd1",
   "metadata": {},
   "outputs": [],
   "source": [
    "img = np.zeros((255,255,3),np.uint8)\n",
    "cv2.namedWindow(\"window name\",cv2.WINDOW_NORMAL)\n",
    "cv2.setMouseCallback(\"window name\",draw)\n",
    "\n",
    "while True:\n",
    "    cv2.imshow(\"window name\",img)\n",
    "    if cv2.waitKey(1) & 255 == ord(\"q\"):\n",
    "        break\n",
    "cv2.destroyAllWindows()"
   ]
  },
  {
   "cell_type": "code",
   "execution_count": 4,
   "id": "bf42b725",
   "metadata": {},
   "outputs": [],
   "source": [
    "import pandas as pd"
   ]
  },
  {
   "cell_type": "code",
   "execution_count": 5,
   "id": "96da1013",
   "metadata": {},
   "outputs": [],
   "source": [
    "df = pd.DataFrame(dataset)"
   ]
  },
  {
   "cell_type": "code",
   "execution_count": 6,
   "id": "f3d6c4c7",
   "metadata": {},
   "outputs": [],
   "source": [
    "# Save the data frame to a CSV file\n",
    "# df.to_csv('my_data.csv', index=False)"
   ]
  },
  {
   "cell_type": "code",
   "execution_count": 7,
   "id": "05c07392",
   "metadata": {},
   "outputs": [
    {
     "name": "stdout",
     "output_type": "stream",
     "text": [
      "<class 'pandas.core.frame.DataFrame'>\n",
      "RangeIndex: 138 entries, 0 to 137\n",
      "Data columns (total 3 columns):\n",
      " #   Column  Non-Null Count  Dtype\n",
      "---  ------  --------------  -----\n",
      " 0   0       138 non-null    int64\n",
      " 1   1       138 non-null    int64\n",
      " 2   2       138 non-null    int64\n",
      "dtypes: int64(3)\n",
      "memory usage: 3.4 KB\n"
     ]
    }
   ],
   "source": [
    "df.info()"
   ]
  },
  {
   "cell_type": "code",
   "execution_count": 8,
   "id": "168641d1",
   "metadata": {},
   "outputs": [
    {
     "data": {
      "text/html": [
       "<div>\n",
       "<style scoped>\n",
       "    .dataframe tbody tr th:only-of-type {\n",
       "        vertical-align: middle;\n",
       "    }\n",
       "\n",
       "    .dataframe tbody tr th {\n",
       "        vertical-align: top;\n",
       "    }\n",
       "\n",
       "    .dataframe thead th {\n",
       "        text-align: right;\n",
       "    }\n",
       "</style>\n",
       "<table border=\"1\" class=\"dataframe\">\n",
       "  <thead>\n",
       "    <tr style=\"text-align: right;\">\n",
       "      <th></th>\n",
       "      <th>0</th>\n",
       "      <th>1</th>\n",
       "      <th>2</th>\n",
       "    </tr>\n",
       "  </thead>\n",
       "  <tbody>\n",
       "    <tr>\n",
       "      <th>0</th>\n",
       "      <td>12</td>\n",
       "      <td>18</td>\n",
       "      <td>0</td>\n",
       "    </tr>\n",
       "    <tr>\n",
       "      <th>1</th>\n",
       "      <td>10</td>\n",
       "      <td>34</td>\n",
       "      <td>0</td>\n",
       "    </tr>\n",
       "    <tr>\n",
       "      <th>2</th>\n",
       "      <td>9</td>\n",
       "      <td>49</td>\n",
       "      <td>0</td>\n",
       "    </tr>\n",
       "    <tr>\n",
       "      <th>3</th>\n",
       "      <td>22</td>\n",
       "      <td>44</td>\n",
       "      <td>0</td>\n",
       "    </tr>\n",
       "    <tr>\n",
       "      <th>4</th>\n",
       "      <td>30</td>\n",
       "      <td>30</td>\n",
       "      <td>0</td>\n",
       "    </tr>\n",
       "  </tbody>\n",
       "</table>\n",
       "</div>"
      ],
      "text/plain": [
       "    0   1  2\n",
       "0  12  18  0\n",
       "1  10  34  0\n",
       "2   9  49  0\n",
       "3  22  44  0\n",
       "4  30  30  0"
      ]
     },
     "execution_count": 8,
     "metadata": {},
     "output_type": "execute_result"
    }
   ],
   "source": [
    "df.head()"
   ]
  },
  {
   "cell_type": "code",
   "execution_count": 9,
   "id": "e5a4a93d",
   "metadata": {},
   "outputs": [
    {
     "data": {
      "text/plain": [
       "array([0, 1], dtype=int64)"
      ]
     },
     "execution_count": 9,
     "metadata": {},
     "output_type": "execute_result"
    }
   ],
   "source": [
    "df[2].unique()"
   ]
  },
  {
   "cell_type": "markdown",
   "id": "cbff711f",
   "metadata": {},
   "source": [
    "### Observation: It comes under Binary Classification task"
   ]
  },
  {
   "cell_type": "markdown",
   "id": "1de840bc",
   "metadata": {},
   "source": [
    "### Splitting the data as x and ys"
   ]
  },
  {
   "cell_type": "code",
   "execution_count": 12,
   "id": "a8f65521",
   "metadata": {},
   "outputs": [],
   "source": [
    "x=df.iloc[:,0:2]\n",
    "y=df.iloc[:,2].astype(int)"
   ]
  },
  {
   "cell_type": "code",
   "execution_count": 13,
   "id": "e7ec1e1f",
   "metadata": {},
   "outputs": [],
   "source": [
    "import seaborn as sns"
   ]
  },
  {
   "cell_type": "code",
   "execution_count": 14,
   "id": "2dc901b5",
   "metadata": {},
   "outputs": [
    {
     "data": {
      "text/plain": [
       "<Axes: xlabel='0', ylabel='1'>"
      ]
     },
     "execution_count": 14,
     "metadata": {},
     "output_type": "execute_result"
    },
    {
     "data": {
      "image/png": "[encoded data removed]",
      "text/plain": [
       "<Figure size 640x480 with 1 Axes>"
      ]
     },
     "metadata": {},
     "output_type": "display_data"
    }
   ],
   "source": [
    "sns.scatterplot(data=df,x=0,y=1,hue=2)"
   ]
  },
  {
   "cell_type": "markdown",
   "id": "9fb82682",
   "metadata": {},
   "source": [
    "### Observation: By seeing the above graph we can easily say that it is non linearly separable poins.\n",
    "### Hense there is no linear relation between x and ys."
   ]
  },
  {
   "cell_type": "code",
   "execution_count": 15,
   "id": "473ffc40",
   "metadata": {},
   "outputs": [],
   "source": [
    "### Splitting the data as x and ys\n",
    "from sklearn.model_selection import train_test_split\n",
    "x_train,x_test,y_train,y_test=train_test_split(x,y,test_size=0.1)"
   ]
  },
  {
   "cell_type": "code",
   "execution_count": 16,
   "id": "76be2891",
   "metadata": {},
   "outputs": [],
   "source": [
    "### Data Preprocessing on train and test data\n",
    "from sklearn.preprocessing import StandardScaler\n",
    "std=StandardScaler()\n",
    "x_trainp=std.fit_transform(x_train)\n",
    "x_testp=std.transform(x_test)"
   ]
  },
  {
   "cell_type": "code",
   "execution_count": 17,
   "id": "a29f595c",
   "metadata": {},
   "outputs": [],
   "source": [
    "from keras import Sequential\n",
    "from keras.layers import Dense\n",
    "import matplotlib.pyplot as plt\n",
    "from keras.regularizers import L1,L1L2,L2\n",
    "from keras.optimizers import SGD"
   ]
  },
  {
   "cell_type": "code",
   "execution_count": 44,
   "id": "f65edd4f",
   "metadata": {},
   "outputs": [],
   "source": [
    "model=Sequential()\n",
    "model.add(Dense(20,activation=\"tanh\",kernel_regularizer=L2(0.001),bias_regularizer=L2(0.001),input_dim=2))\n",
    "model.add(Dense(18,activation=\"tanh\",kernel_regularizer=L2(0.001),bias_regularizer=L2(0.001)))\n",
    "model.add(Dense(16,activation=\"tanh\",kernel_regularizer=L2(0.001),bias_regularizer=L2(0.001)))\n",
    "model.add(Dense(10,activation=\"tanh\",kernel_regularizer=L2(0.001),bias_regularizer=L2(0.001)))\n",
    "model.add(Dense(1,activation=\"sigmoid\",kernel_regularizer=L2(0.001),bias_regularizer=L2(0.001)))"
   ]
  },
  {
   "cell_type": "markdown",
   "id": "11df42a2",
   "metadata": {},
   "source": [
    "### Since It is a binary class classification we need to use sigmoid funcation as activation function in the output layer."
   ]
  },
  {
   "cell_type": "markdown",
   "id": "2ac96c89",
   "metadata": {},
   "source": [
    "### Observation: Using Tanh activation we need to have more hidden layers and also neet to perform regularization to get best fit model."
   ]
  },
  {
   "cell_type": "code",
   "execution_count": 45,
   "id": "c13848f2",
   "metadata": {},
   "outputs": [
    {
     "name": "stdout",
     "output_type": "stream",
     "text": [
      "Model: \"sequential_5\"\n",
      "_________________________________________________________________\n",
      " Layer (type)                Output Shape              Param #   \n",
      "=================================================================\n",
      " dense_22 (Dense)            (None, 20)                60        \n",
      "                                                                 \n",
      " dense_23 (Dense)            (None, 18)                378       \n",
      "                                                                 \n",
      " dense_24 (Dense)            (None, 16)                304       \n",
      "                                                                 \n",
      " dense_25 (Dense)            (None, 10)                170       \n",
      "                                                                 \n",
      " dense_26 (Dense)            (None, 1)                 11        \n",
      "                                                                 \n",
      "=================================================================\n",
      "Total params: 923 (3.61 KB)\n",
      "Trainable params: 923 (3.61 KB)\n",
      "Non-trainable params: 0 (0.00 Byte)\n",
      "_________________________________________________________________\n"
     ]
    }
   ],
   "source": [
    "model.summary()"
   ]
  },
  {
   "cell_type": "code",
   "execution_count": 46,
   "id": "4d756d13",
   "metadata": {},
   "outputs": [
    {
     "name": "stdout",
     "output_type": "stream",
     "text": [
      "Epoch 1/20\n",
      "12/12 [==============================] - 3s 61ms/step - loss: 0.3023 - mse: 0.2478 - val_loss: 0.3548 - val_mse: 0.3004\n",
      "Epoch 2/20\n",
      "12/12 [==============================] - 0s 11ms/step - loss: 0.2899 - mse: 0.2357 - val_loss: 0.3485 - val_mse: 0.2943\n",
      "Epoch 3/20\n",
      "12/12 [==============================] - 0s 12ms/step - loss: 0.2878 - mse: 0.2336 - val_loss: 0.3393 - val_mse: 0.2852\n",
      "Epoch 4/20\n",
      "12/12 [==============================] - 0s 11ms/step - loss: 0.2782 - mse: 0.2242 - val_loss: 0.3326 - val_mse: 0.2786\n",
      "Epoch 5/20\n",
      "12/12 [==============================] - 0s 10ms/step - loss: 0.2732 - mse: 0.2192 - val_loss: 0.3367 - val_mse: 0.2827\n",
      "Epoch 6/20\n",
      "12/12 [==============================] - 0s 12ms/step - loss: 0.2662 - mse: 0.2121 - val_loss: 0.2744 - val_mse: 0.2204\n",
      "Epoch 7/20\n",
      "12/12 [==============================] - 0s 12ms/step - loss: 0.2549 - mse: 0.2008 - val_loss: 0.2893 - val_mse: 0.2351\n",
      "Epoch 8/20\n",
      "12/12 [==============================] - 0s 11ms/step - loss: 0.2466 - mse: 0.1923 - val_loss: 0.2470 - val_mse: 0.1925\n",
      "Epoch 9/20\n",
      "12/12 [==============================] - 0s 10ms/step - loss: 0.2325 - mse: 0.1778 - val_loss: 0.2522 - val_mse: 0.1973\n",
      "Epoch 10/20\n",
      "12/12 [==============================] - 0s 10ms/step - loss: 0.2163 - mse: 0.1612 - val_loss: 0.2412 - val_mse: 0.1858\n",
      "Epoch 11/20\n",
      "12/12 [==============================] - 0s 10ms/step - loss: 0.2090 - mse: 0.1534 - val_loss: 0.2126 - val_mse: 0.1567\n",
      "Epoch 12/20\n",
      "12/12 [==============================] - 0s 12ms/step - loss: 0.1829 - mse: 0.1267 - val_loss: 0.1846 - val_mse: 0.1280\n",
      "Epoch 13/20\n",
      "12/12 [==============================] - 0s 11ms/step - loss: 0.1701 - mse: 0.1132 - val_loss: 0.1642 - val_mse: 0.1070\n",
      "Epoch 14/20\n",
      "12/12 [==============================] - 0s 12ms/step - loss: 0.1518 - mse: 0.0943 - val_loss: 0.1396 - val_mse: 0.0817\n",
      "Epoch 15/20\n",
      "12/12 [==============================] - 0s 11ms/step - loss: 0.1380 - mse: 0.0798 - val_loss: 0.2584 - val_mse: 0.2001\n",
      "Epoch 16/20\n",
      "12/12 [==============================] - 0s 11ms/step - loss: 0.1473 - mse: 0.0888 - val_loss: 0.1277 - val_mse: 0.0688\n",
      "Epoch 17/20\n",
      "12/12 [==============================] - 0s 10ms/step - loss: 0.1198 - mse: 0.0608 - val_loss: 0.1325 - val_mse: 0.0731\n",
      "Epoch 18/20\n",
      "12/12 [==============================] - 0s 10ms/step - loss: 0.1210 - mse: 0.0615 - val_loss: 0.1150 - val_mse: 0.0552\n",
      "Epoch 19/20\n",
      "12/12 [==============================] - 0s 10ms/step - loss: 0.1114 - mse: 0.0514 - val_loss: 0.1078 - val_mse: 0.0477\n",
      "Epoch 20/20\n",
      "12/12 [==============================] - 0s 12ms/step - loss: 0.1052 - mse: 0.0449 - val_loss: 0.1038 - val_mse: 0.0434\n"
     ]
    }
   ],
   "source": [
    "model.compile(loss=\"mse\",optimizer=SGD(learning_rate=0.1),metrics=[\"mse\"])\n",
    "history=model.fit(x_trainp,y_train,batch_size=10,epochs=20,validation_split=0.1)"
   ]
  },
  {
   "cell_type": "code",
   "execution_count": 47,
   "id": "62db420c",
   "metadata": {},
   "outputs": [],
   "source": [
    "from mlxtend.plotting import plot_decision_regions"
   ]
  },
  {
   "cell_type": "code",
   "execution_count": 48,
   "id": "ac444046",
   "metadata": {},
   "outputs": [
    {
     "name": "stdout",
     "output_type": "stream",
     "text": [
      "9600/9600 [==============================] - 28s 3ms/step\n"
     ]
    },
    {
     "data": {
      "text/plain": [
       "<Axes: >"
      ]
     },
     "execution_count": 48,
     "metadata": {},
     "output_type": "execute_result"
    },
    {
     "data": {
      "image/png": "[encoded data removed]",
      "text/plain": [
       "<Figure size 640x480 with 1 Axes>"
      ]
     },
     "metadata": {},
     "output_type": "display_data"
    }
   ],
   "source": [
    "plot_decision_regions(x_trainp,y_train.values,clf=model)"
   ]
  },
  {
   "cell_type": "code",
   "execution_count": 49,
   "id": "c84eeab6",
   "metadata": {},
   "outputs": [],
   "source": [
    "### Building the Logical structure\n",
    "model=Sequential()\n",
    "model.add(Dense(20,activation=\"relu\",input_dim=2))\n",
    "model.add(Dense(18,activation=\"relu\"))\n",
    "model.add(Dense(10,activation=\"relu\"))\n",
    "model.add(Dense(1,activation=\"sigmoid\"))"
   ]
  },
  {
   "cell_type": "code",
   "execution_count": 50,
   "id": "ffc52737",
   "metadata": {},
   "outputs": [
    {
     "name": "stdout",
     "output_type": "stream",
     "text": [
      "Model: \"sequential_6\"\n",
      "_________________________________________________________________\n",
      " Layer (type)                Output Shape              Param #   \n",
      "=================================================================\n",
      " dense_27 (Dense)            (None, 20)                60        \n",
      "                                                                 \n",
      " dense_28 (Dense)            (None, 18)                378       \n",
      "                                                                 \n",
      " dense_29 (Dense)            (None, 10)                190       \n",
      "                                                                 \n",
      " dense_30 (Dense)            (None, 1)                 11        \n",
      "                                                                 \n",
      "=================================================================\n",
      "Total params: 639 (2.50 KB)\n",
      "Trainable params: 639 (2.50 KB)\n",
      "Non-trainable params: 0 (0.00 Byte)\n",
      "_________________________________________________________________\n"
     ]
    }
   ],
   "source": [
    "model.summary()"
   ]
  },
  {
   "cell_type": "code",
   "execution_count": 51,
   "id": "5d878587",
   "metadata": {},
   "outputs": [
    {
     "name": "stdout",
     "output_type": "stream",
     "text": [
      "Epoch 1/20\n",
      "12/12 [==============================] - 2s 47ms/step - loss: 0.2440 - mse: 0.2440 - val_loss: 0.2364 - val_mse: 0.2364\n",
      "Epoch 2/20\n",
      "12/12 [==============================] - 0s 10ms/step - loss: 0.2388 - mse: 0.2388 - val_loss: 0.2298 - val_mse: 0.2298\n",
      "Epoch 3/20\n",
      "12/12 [==============================] - 0s 8ms/step - loss: 0.2345 - mse: 0.2345 - val_loss: 0.2237 - val_mse: 0.2237\n",
      "Epoch 4/20\n",
      "12/12 [==============================] - 0s 12ms/step - loss: 0.2300 - mse: 0.2300 - val_loss: 0.2190 - val_mse: 0.2190\n",
      "Epoch 5/20\n",
      "12/12 [==============================] - 0s 11ms/step - loss: 0.2255 - mse: 0.2255 - val_loss: 0.2137 - val_mse: 0.2137\n",
      "Epoch 6/20\n",
      "12/12 [==============================] - 0s 11ms/step - loss: 0.2212 - mse: 0.2212 - val_loss: 0.2053 - val_mse: 0.2053\n",
      "Epoch 7/20\n",
      "12/12 [==============================] - 0s 10ms/step - loss: 0.2155 - mse: 0.2155 - val_loss: 0.1982 - val_mse: 0.1982\n",
      "Epoch 8/20\n",
      "12/12 [==============================] - 0s 11ms/step - loss: 0.2085 - mse: 0.2085 - val_loss: 0.1944 - val_mse: 0.1944\n",
      "Epoch 9/20\n",
      "12/12 [==============================] - 0s 13ms/step - loss: 0.2036 - mse: 0.2036 - val_loss: 0.1842 - val_mse: 0.1842\n",
      "Epoch 10/20\n",
      "12/12 [==============================] - 0s 16ms/step - loss: 0.1964 - mse: 0.1964 - val_loss: 0.1765 - val_mse: 0.1765\n",
      "Epoch 11/20\n",
      "12/12 [==============================] - 0s 14ms/step - loss: 0.1889 - mse: 0.1889 - val_loss: 0.1688 - val_mse: 0.1688\n",
      "Epoch 12/20\n",
      "12/12 [==============================] - 0s 12ms/step - loss: 0.1804 - mse: 0.1804 - val_loss: 0.1606 - val_mse: 0.1606\n",
      "Epoch 13/20\n",
      "12/12 [==============================] - 0s 11ms/step - loss: 0.1725 - mse: 0.1725 - val_loss: 0.1502 - val_mse: 0.1502\n",
      "Epoch 14/20\n",
      "12/12 [==============================] - 0s 12ms/step - loss: 0.1634 - mse: 0.1634 - val_loss: 0.1396 - val_mse: 0.1396\n",
      "Epoch 15/20\n",
      "12/12 [==============================] - 0s 10ms/step - loss: 0.1520 - mse: 0.1520 - val_loss: 0.1315 - val_mse: 0.1315\n",
      "Epoch 16/20\n",
      "12/12 [==============================] - 0s 10ms/step - loss: 0.1378 - mse: 0.1378 - val_loss: 0.1174 - val_mse: 0.1174\n",
      "Epoch 17/20\n",
      "12/12 [==============================] - 0s 11ms/step - loss: 0.1228 - mse: 0.1228 - val_loss: 0.1025 - val_mse: 0.1025\n",
      "Epoch 18/20\n",
      "12/12 [==============================] - 0s 11ms/step - loss: 0.1070 - mse: 0.1070 - val_loss: 0.0899 - val_mse: 0.0899\n",
      "Epoch 19/20\n",
      "12/12 [==============================] - 0s 10ms/step - loss: 0.0934 - mse: 0.0934 - val_loss: 0.0840 - val_mse: 0.0840\n",
      "Epoch 20/20\n",
      "12/12 [==============================] - 0s 11ms/step - loss: 0.0806 - mse: 0.0806 - val_loss: 0.0731 - val_mse: 0.0731\n"
     ]
    }
   ],
   "source": [
    "### Training the Model\n",
    "model.compile(loss=\"mse\",optimizer=SGD(learning_rate=0.1),metrics=[\"mse\"])\n",
    "history=model.fit(x_trainp,y_train,batch_size=10,epochs=20,validation_split=0.1)"
   ]
  },
  {
   "cell_type": "code",
   "execution_count": 52,
   "id": "67f11760",
   "metadata": {},
   "outputs": [],
   "source": [
    "from mlxtend.plotting import plot_decision_regions"
   ]
  },
  {
   "cell_type": "code",
   "execution_count": 53,
   "id": "ce259c1b",
   "metadata": {},
   "outputs": [
    {
     "name": "stdout",
     "output_type": "stream",
     "text": [
      "9600/9600 [==============================] - 25s 3ms/step\n"
     ]
    },
    {
     "data": {
      "text/plain": [
       "<Axes: >"
      ]
     },
     "execution_count": 53,
     "metadata": {},
     "output_type": "execute_result"
    },
    {
     "data": {
      "image/png": "[encoded data removed]",
      "text/plain": [
       "<Figure size 640x480 with 1 Axes>"
      ]
     },
     "metadata": {},
     "output_type": "display_data"
    }
   ],
   "source": [
    "plot_decision_regions(x_trainp,y_train.values,clf=model)"
   ]
  },
  {
   "cell_type": "markdown",
   "id": "ee018028",
   "metadata": {},
   "source": [
    "### Observation : Using Relu activation function, we are getting best fit with out regularization.\n",
    "### Even the hidden layers also very less."
   ]
  },
  {
   "cell_type": "code",
   "execution_count": null,
   "id": "fccbf2f1",
   "metadata": {},
   "outputs": [],
   "source": []
  }
 ],
 "metadata": {
  "kernelspec": {
   "display_name": "Python 3 (ipykernel)",
   "language": "python",
   "name": "python3"
  },
  "language_info": {
   "codemirror_mode": {
    "name": "ipython",
    "version": 3
   },
   "file_extension": ".py",
   "mimetype": "text/x-python",
   "name": "python",
   "nbconvert_exporter": "python",
   "pygments_lexer": "ipython3",
   "version": "3.9.13"
  }
 },
 "nbformat": 4,
 "nbformat_minor": 5
}
