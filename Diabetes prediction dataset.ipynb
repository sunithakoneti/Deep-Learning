{
 "cells": [
  {
   "cell_type": "code",
   "execution_count": 1,
   "id": "49af2e43",
   "metadata": {},
   "outputs": [],
   "source": [
    "import pandas as pd\n",
    "import numpy as np\n",
    "import matplotlib.pyplot as plt\n",
    "import seaborn as sns"
   ]
  },
  {
   "cell_type": "code",
   "execution_count": 2,
   "id": "d96b725f",
   "metadata": {},
   "outputs": [],
   "source": [
    "## Loading dataset"
   ]
  },
  {
   "cell_type": "code",
   "execution_count": 3,
   "id": "638bbb31",
   "metadata": {},
   "outputs": [],
   "source": [
    "df = pd.read_csv(r\"C:\\Users\\91998\\Downloads\\archive (5)\\diabetes_prediction_dataset.csv\")"
   ]
  },
  {
   "cell_type": "code",
   "execution_count": 4,
   "id": "52f43c99",
   "metadata": {},
   "outputs": [
    {
     "name": "stdout",
     "output_type": "stream",
     "text": [
      "<class 'pandas.core.frame.DataFrame'>\n",
      "RangeIndex: 100000 entries, 0 to 99999\n",
      "Data columns (total 9 columns):\n",
      " #   Column               Non-Null Count   Dtype  \n",
      "---  ------               --------------   -----  \n",
      " 0   gender               100000 non-null  object \n",
      " 1   age                  100000 non-null  float64\n",
      " 2   hypertension         100000 non-null  int64  \n",
      " 3   heart_disease        100000 non-null  int64  \n",
      " 4   smoking_history      100000 non-null  object \n",
      " 5   bmi                  100000 non-null  float64\n",
      " 6   HbA1c_level          100000 non-null  float64\n",
      " 7   blood_glucose_level  100000 non-null  int64  \n",
      " 8   diabetes             100000 non-null  int64  \n",
      "dtypes: float64(3), int64(4), object(2)\n",
      "memory usage: 6.9+ MB\n"
     ]
    }
   ],
   "source": [
    "df.info()"
   ]
  },
  {
   "cell_type": "code",
   "execution_count": 5,
   "id": "4bc6e9a8",
   "metadata": {},
   "outputs": [
    {
     "data": {
      "text/html": [
       "<div>\n",
       "<style scoped>\n",
       "    .dataframe tbody tr th:only-of-type {\n",
       "        vertical-align: middle;\n",
       "    }\n",
       "\n",
       "    .dataframe tbody tr th {\n",
       "        vertical-align: top;\n",
       "    }\n",
       "\n",
       "    .dataframe thead th {\n",
       "        text-align: right;\n",
       "    }\n",
       "</style>\n",
       "<table border=\"1\" class=\"dataframe\">\n",
       "  <thead>\n",
       "    <tr style=\"text-align: right;\">\n",
       "      <th></th>\n",
       "      <th>gender</th>\n",
       "      <th>age</th>\n",
       "      <th>hypertension</th>\n",
       "      <th>heart_disease</th>\n",
       "      <th>smoking_history</th>\n",
       "      <th>bmi</th>\n",
       "      <th>HbA1c_level</th>\n",
       "      <th>blood_glucose_level</th>\n",
       "      <th>diabetes</th>\n",
       "    </tr>\n",
       "  </thead>\n",
       "  <tbody>\n",
       "    <tr>\n",
       "      <th>0</th>\n",
       "      <td>Female</td>\n",
       "      <td>80.0</td>\n",
       "      <td>0</td>\n",
       "      <td>1</td>\n",
       "      <td>never</td>\n",
       "      <td>25.19</td>\n",
       "      <td>6.6</td>\n",
       "      <td>140</td>\n",
       "      <td>0</td>\n",
       "    </tr>\n",
       "    <tr>\n",
       "      <th>1</th>\n",
       "      <td>Female</td>\n",
       "      <td>54.0</td>\n",
       "      <td>0</td>\n",
       "      <td>0</td>\n",
       "      <td>No Info</td>\n",
       "      <td>27.32</td>\n",
       "      <td>6.6</td>\n",
       "      <td>80</td>\n",
       "      <td>0</td>\n",
       "    </tr>\n",
       "    <tr>\n",
       "      <th>2</th>\n",
       "      <td>Male</td>\n",
       "      <td>28.0</td>\n",
       "      <td>0</td>\n",
       "      <td>0</td>\n",
       "      <td>never</td>\n",
       "      <td>27.32</td>\n",
       "      <td>5.7</td>\n",
       "      <td>158</td>\n",
       "      <td>0</td>\n",
       "    </tr>\n",
       "    <tr>\n",
       "      <th>3</th>\n",
       "      <td>Female</td>\n",
       "      <td>36.0</td>\n",
       "      <td>0</td>\n",
       "      <td>0</td>\n",
       "      <td>current</td>\n",
       "      <td>23.45</td>\n",
       "      <td>5.0</td>\n",
       "      <td>155</td>\n",
       "      <td>0</td>\n",
       "    </tr>\n",
       "    <tr>\n",
       "      <th>4</th>\n",
       "      <td>Male</td>\n",
       "      <td>76.0</td>\n",
       "      <td>1</td>\n",
       "      <td>1</td>\n",
       "      <td>current</td>\n",
       "      <td>20.14</td>\n",
       "      <td>4.8</td>\n",
       "      <td>155</td>\n",
       "      <td>0</td>\n",
       "    </tr>\n",
       "  </tbody>\n",
       "</table>\n",
       "</div>"
      ],
      "text/plain": [
       "   gender   age  hypertension  heart_disease smoking_history    bmi  \\\n",
       "0  Female  80.0             0              1           never  25.19   \n",
       "1  Female  54.0             0              0         No Info  27.32   \n",
       "2    Male  28.0             0              0           never  27.32   \n",
       "3  Female  36.0             0              0         current  23.45   \n",
       "4    Male  76.0             1              1         current  20.14   \n",
       "\n",
       "   HbA1c_level  blood_glucose_level  diabetes  \n",
       "0          6.6                  140         0  \n",
       "1          6.6                   80         0  \n",
       "2          5.7                  158         0  \n",
       "3          5.0                  155         0  \n",
       "4          4.8                  155         0  "
      ]
     },
     "execution_count": 5,
     "metadata": {},
     "output_type": "execute_result"
    }
   ],
   "source": [
    "df.head()"
   ]
  },
  {
   "cell_type": "markdown",
   "id": "95e967a3",
   "metadata": {},
   "source": [
    "## Observation: All the column names and data types are correct.\n",
    "## There are no missing values found in this dataset."
   ]
  },
  {
   "cell_type": "code",
   "execution_count": 6,
   "id": "b98d6d5b",
   "metadata": {},
   "outputs": [
    {
     "data": {
      "text/plain": [
       "3854"
      ]
     },
     "execution_count": 6,
     "metadata": {},
     "output_type": "execute_result"
    }
   ],
   "source": [
    "### Finding Duplicates\n",
    "df.duplicated().sum()"
   ]
  },
  {
   "cell_type": "code",
   "execution_count": 7,
   "id": "3396401f",
   "metadata": {},
   "outputs": [],
   "source": [
    "df.drop_duplicates(inplace=True)"
   ]
  },
  {
   "cell_type": "code",
   "execution_count": 8,
   "id": "de125ef2",
   "metadata": {},
   "outputs": [
    {
     "data": {
      "text/plain": [
       "0"
      ]
     },
     "execution_count": 8,
     "metadata": {},
     "output_type": "execute_result"
    }
   ],
   "source": [
    "df.duplicated().sum()"
   ]
  },
  {
   "cell_type": "code",
   "execution_count": 9,
   "id": "13797c9d",
   "metadata": {},
   "outputs": [
    {
     "name": "stdout",
     "output_type": "stream",
     "text": [
      "<class 'pandas.core.frame.DataFrame'>\n",
      "Int64Index: 96146 entries, 0 to 99999\n",
      "Data columns (total 9 columns):\n",
      " #   Column               Non-Null Count  Dtype  \n",
      "---  ------               --------------  -----  \n",
      " 0   gender               96146 non-null  object \n",
      " 1   age                  96146 non-null  float64\n",
      " 2   hypertension         96146 non-null  int64  \n",
      " 3   heart_disease        96146 non-null  int64  \n",
      " 4   smoking_history      96146 non-null  object \n",
      " 5   bmi                  96146 non-null  float64\n",
      " 6   HbA1c_level          96146 non-null  float64\n",
      " 7   blood_glucose_level  96146 non-null  int64  \n",
      " 8   diabetes             96146 non-null  int64  \n",
      "dtypes: float64(3), int64(4), object(2)\n",
      "memory usage: 7.3+ MB\n"
     ]
    }
   ],
   "source": [
    "df.info()"
   ]
  },
  {
   "cell_type": "code",
   "execution_count": 10,
   "id": "00c206ed",
   "metadata": {},
   "outputs": [
    {
     "data": {
      "text/plain": [
       "gender                 0\n",
       "age                    0\n",
       "hypertension           0\n",
       "heart_disease          0\n",
       "smoking_history        0\n",
       "bmi                    0\n",
       "HbA1c_level            0\n",
       "blood_glucose_level    0\n",
       "diabetes               0\n",
       "dtype: int64"
      ]
     },
     "execution_count": 10,
     "metadata": {},
     "output_type": "execute_result"
    }
   ],
   "source": [
    "df.isnull().sum()"
   ]
  },
  {
   "cell_type": "markdown",
   "id": "542c0cf5",
   "metadata": {},
   "source": [
    "## Exploratory Data Analysis"
   ]
  },
  {
   "cell_type": "markdown",
   "id": "c6ceeffe",
   "metadata": {},
   "source": [
    "### Categorical columns"
   ]
  },
  {
   "cell_type": "code",
   "execution_count": 11,
   "id": "9dd957f0",
   "metadata": {},
   "outputs": [
    {
     "data": {
      "text/plain": [
       "Female    56161\n",
       "Male      39967\n",
       "Other        18\n",
       "Name: gender, dtype: int64"
      ]
     },
     "execution_count": 11,
     "metadata": {},
     "output_type": "execute_result"
    }
   ],
   "source": [
    "df[\"gender\"].value_counts()"
   ]
  },
  {
   "cell_type": "code",
   "execution_count": 12,
   "id": "954c8757",
   "metadata": {},
   "outputs": [
    {
     "data": {
      "text/plain": [
       "<Axes: xlabel='gender', ylabel='count'>"
      ]
     },
     "execution_count": 12,
     "metadata": {},
     "output_type": "execute_result"
    },
    {
     "data": {
      "image/png": "[encoded data removed]",
      "text/plain": [
       "<Figure size 640x480 with 1 Axes>"
      ]
     },
     "metadata": {},
     "output_type": "display_data"
    }
   ],
   "source": [
    "sns.countplot(data=df,x=\"gender\")"
   ]
  },
  {
   "cell_type": "markdown",
   "id": "5d948a60",
   "metadata": {},
   "source": [
    "## Observation: As Other are low in number we can remove those data."
   ]
  },
  {
   "cell_type": "code",
   "execution_count": 13,
   "id": "bccc386d",
   "metadata": {},
   "outputs": [],
   "source": [
    "df = df[df['gender']!='Other']"
   ]
  },
  {
   "cell_type": "code",
   "execution_count": 14,
   "id": "5db95b68",
   "metadata": {},
   "outputs": [
    {
     "data": {
      "text/plain": [
       "Female    56161\n",
       "Male      39967\n",
       "Name: gender, dtype: int64"
      ]
     },
     "execution_count": 14,
     "metadata": {},
     "output_type": "execute_result"
    }
   ],
   "source": [
    "df[\"gender\"].value_counts()"
   ]
  },
  {
   "cell_type": "code",
   "execution_count": 15,
   "id": "cf916bf0",
   "metadata": {},
   "outputs": [
    {
     "data": {
      "text/plain": [
       "<Axes: xlabel='gender', ylabel='count'>"
      ]
     },
     "execution_count": 15,
     "metadata": {},
     "output_type": "execute_result"
    },
    {
     "data": {
      "image/png": "[encoded data removed]",
      "text/plain": [
       "<Figure size 640x480 with 1 Axes>"
      ]
     },
     "metadata": {},
     "output_type": "display_data"
    }
   ],
   "source": [
    "sns.countplot(data=df,x=\"gender\")"
   ]
  },
  {
   "cell_type": "code",
   "execution_count": 16,
   "id": "e5863402",
   "metadata": {},
   "outputs": [
    {
     "data": {
      "text/plain": [
       "never          34395\n",
       "No Info        32881\n",
       "former          9299\n",
       "current         9197\n",
       "not current     6359\n",
       "ever            3997\n",
       "Name: smoking_history, dtype: int64"
      ]
     },
     "execution_count": 16,
     "metadata": {},
     "output_type": "execute_result"
    }
   ],
   "source": [
    "df[\"smoking_history\"].value_counts()"
   ]
  },
  {
   "cell_type": "code",
   "execution_count": 17,
   "id": "79fd9f6c",
   "metadata": {},
   "outputs": [
    {
     "data": {
      "text/plain": [
       "<Axes: xlabel='smoking_history', ylabel='count'>"
      ]
     },
     "execution_count": 17,
     "metadata": {},
     "output_type": "execute_result"
    },
    {
     "data": {
      "image/png": "[encoded data removed]",
      "text/plain": [
       "<Figure size 640x480 with 1 Axes>"
      ]
     },
     "metadata": {},
     "output_type": "display_data"
    }
   ],
   "source": [
    "sns.countplot(data=df,x=\"smoking_history\")"
   ]
  },
  {
   "cell_type": "markdown",
   "id": "dc945b86",
   "metadata": {},
   "source": [
    "## Observation: more than 30% data  have no info about smoking history , it like to be big missing values so we will remove this column better to maintain data integrity"
   ]
  },
  {
   "cell_type": "markdown",
   "id": "8b9f58fd",
   "metadata": {},
   "source": [
    "### Numeerical columns"
   ]
  },
  {
   "cell_type": "code",
   "execution_count": 18,
   "id": "2a92e244",
   "metadata": {},
   "outputs": [
    {
     "data": {
      "image/png": "[encoded data removed]",
      "text/plain": [
       "<Figure size 1200x600 with 1 Axes>"
      ]
     },
     "metadata": {},
     "output_type": "display_data"
    }
   ],
   "source": [
    "## age\n",
    "plt.figure(figsize = [12,6]);\n",
    "plt.hist(df['age'], bins = 40);\n",
    "plt.xlabel('Ages');\n",
    "plt.ylabel('Counts');\n",
    "plt.xticks(np.arange(0,82,2));"
   ]
  },
  {
   "cell_type": "code",
   "execution_count": 19,
   "id": "7885d5a3",
   "metadata": {},
   "outputs": [
    {
     "data": {
      "text/plain": [
       "<Axes: xlabel='age'>"
      ]
     },
     "execution_count": 19,
     "metadata": {},
     "output_type": "execute_result"
    },
    {
     "data": {
      "image/png": "[encoded data removed]",
      "text/plain": [
       "<Figure size 640x480 with 1 Axes>"
      ]
     },
     "metadata": {},
     "output_type": "display_data"
    }
   ],
   "source": [
    "sns.boxplot(data=df,x=\"age\")"
   ]
  },
  {
   "cell_type": "code",
   "execution_count": 20,
   "id": "31d3d75f",
   "metadata": {},
   "outputs": [
    {
     "data": {
      "image/png": "[encoded data removed]",
      "text/plain": [
       "<Figure size 1200x600 with 1 Axes>"
      ]
     },
     "metadata": {},
     "output_type": "display_data"
    }
   ],
   "source": [
    "## Bmi\n",
    "plt.figure(figsize = [12,6]);\n",
    "plt.hist(df['bmi'], bins = 40);\n",
    "plt.xlabel('BMI');\n",
    "plt.ylabel('Counts');\n",
    "plt.xticks(np.arange(0,82,2));"
   ]
  },
  {
   "cell_type": "code",
   "execution_count": 21,
   "id": "b48d8f85",
   "metadata": {},
   "outputs": [
    {
     "data": {
      "text/plain": [
       "<Axes: ylabel='bmi'>"
      ]
     },
     "execution_count": 21,
     "metadata": {},
     "output_type": "execute_result"
    },
    {
     "data": {
      "image/png": "[encoded data removed]",
      "text/plain": [
       "<Figure size 640x480 with 1 Axes>"
      ]
     },
     "metadata": {},
     "output_type": "display_data"
    }
   ],
   "source": [
    "sns.boxplot(data=df,y=\"bmi\")"
   ]
  },
  {
   "cell_type": "code",
   "execution_count": 22,
   "id": "29ff512b",
   "metadata": {},
   "outputs": [],
   "source": [
    "# as we see we have many outliers from visualization, we want to remove it:\n",
    "# 1. frist calculation IQR\n",
    "IQR = df['bmi'].quantile(0.75) - df['bmi'].quantile(0.25)\n",
    "\n",
    "# determine the upper and lower boundries : \n",
    "upper_boundry = df['bmi'].quantile(0.75) + (IQR*1.5)\n",
    "lower_boundry = df['bmi'].quantile(0.25) - (IQR*1.5)"
   ]
  },
  {
   "cell_type": "code",
   "execution_count": 23,
   "id": "281b8514",
   "metadata": {},
   "outputs": [],
   "source": [
    "# removing outliers :\n",
    "df = df[df['bmi'] <= upper_boundry]\n",
    "df = df[df['bmi'] >= lower_boundry]\n"
   ]
  },
  {
   "cell_type": "code",
   "execution_count": 24,
   "id": "c79551ac",
   "metadata": {},
   "outputs": [
    {
     "data": {
      "text/plain": [
       "<Axes: ylabel='bmi'>"
      ]
     },
     "execution_count": 24,
     "metadata": {},
     "output_type": "execute_result"
    },
    {
     "data": {
      "image/png": "[encoded data removed]",
      "text/plain": [
       "<Figure size 640x480 with 1 Axes>"
      ]
     },
     "metadata": {},
     "output_type": "display_data"
    }
   ],
   "source": [
    "sns.boxplot(data=df,y=\"bmi\")"
   ]
  },
  {
   "cell_type": "code",
   "execution_count": 25,
   "id": "218fbdc7",
   "metadata": {},
   "outputs": [
    {
     "data": {
      "text/plain": [
       "(90774, 9)"
      ]
     },
     "execution_count": 25,
     "metadata": {},
     "output_type": "execute_result"
    }
   ],
   "source": [
    "df.shape"
   ]
  },
  {
   "cell_type": "code",
   "execution_count": 26,
   "id": "92208233",
   "metadata": {},
   "outputs": [
    {
     "data": {
      "text/plain": [
       "Index(['gender', 'age', 'hypertension', 'heart_disease', 'smoking_history',\n",
       "       'bmi', 'HbA1c_level', 'blood_glucose_level', 'diabetes'],\n",
       "      dtype='object')"
      ]
     },
     "execution_count": 26,
     "metadata": {},
     "output_type": "execute_result"
    }
   ],
   "source": [
    "df.columns"
   ]
  },
  {
   "cell_type": "code",
   "execution_count": 27,
   "id": "a6bec395",
   "metadata": {},
   "outputs": [
    {
     "data": {
      "text/plain": [
       "<Axes: xlabel='hypertension', ylabel='count'>"
      ]
     },
     "execution_count": 27,
     "metadata": {},
     "output_type": "execute_result"
    },
    {
     "data": {
      "image/png": "[encoded data removed]",
      "text/plain": [
       "<Figure size 640x480 with 1 Axes>"
      ]
     },
     "metadata": {},
     "output_type": "display_data"
    }
   ],
   "source": [
    "sns.countplot(data=df,x=\"hypertension\")"
   ]
  },
  {
   "cell_type": "code",
   "execution_count": 28,
   "id": "94c87a94",
   "metadata": {},
   "outputs": [],
   "source": [
    "# reset index after removing some outliers and duplicates :-\n",
    "df = df.reset_index(drop=True)"
   ]
  },
  {
   "cell_type": "code",
   "execution_count": 29,
   "id": "b0de77e0",
   "metadata": {},
   "outputs": [
    {
     "data": {
      "text/html": [
       "<div>\n",
       "<style scoped>\n",
       "    .dataframe tbody tr th:only-of-type {\n",
       "        vertical-align: middle;\n",
       "    }\n",
       "\n",
       "    .dataframe tbody tr th {\n",
       "        vertical-align: top;\n",
       "    }\n",
       "\n",
       "    .dataframe thead th {\n",
       "        text-align: right;\n",
       "    }\n",
       "</style>\n",
       "<table border=\"1\" class=\"dataframe\">\n",
       "  <thead>\n",
       "    <tr style=\"text-align: right;\">\n",
       "      <th></th>\n",
       "      <th>gender</th>\n",
       "      <th>age</th>\n",
       "      <th>hypertension</th>\n",
       "      <th>heart_disease</th>\n",
       "      <th>smoking_history</th>\n",
       "      <th>bmi</th>\n",
       "      <th>HbA1c_level</th>\n",
       "      <th>blood_glucose_level</th>\n",
       "      <th>diabetes</th>\n",
       "    </tr>\n",
       "  </thead>\n",
       "  <tbody>\n",
       "    <tr>\n",
       "      <th>0</th>\n",
       "      <td>Female</td>\n",
       "      <td>80.0</td>\n",
       "      <td>0</td>\n",
       "      <td>1</td>\n",
       "      <td>never</td>\n",
       "      <td>25.19</td>\n",
       "      <td>6.6</td>\n",
       "      <td>140</td>\n",
       "      <td>0</td>\n",
       "    </tr>\n",
       "    <tr>\n",
       "      <th>1</th>\n",
       "      <td>Female</td>\n",
       "      <td>54.0</td>\n",
       "      <td>0</td>\n",
       "      <td>0</td>\n",
       "      <td>No Info</td>\n",
       "      <td>27.32</td>\n",
       "      <td>6.6</td>\n",
       "      <td>80</td>\n",
       "      <td>0</td>\n",
       "    </tr>\n",
       "    <tr>\n",
       "      <th>2</th>\n",
       "      <td>Male</td>\n",
       "      <td>28.0</td>\n",
       "      <td>0</td>\n",
       "      <td>0</td>\n",
       "      <td>never</td>\n",
       "      <td>27.32</td>\n",
       "      <td>5.7</td>\n",
       "      <td>158</td>\n",
       "      <td>0</td>\n",
       "    </tr>\n",
       "    <tr>\n",
       "      <th>3</th>\n",
       "      <td>Female</td>\n",
       "      <td>36.0</td>\n",
       "      <td>0</td>\n",
       "      <td>0</td>\n",
       "      <td>current</td>\n",
       "      <td>23.45</td>\n",
       "      <td>5.0</td>\n",
       "      <td>155</td>\n",
       "      <td>0</td>\n",
       "    </tr>\n",
       "    <tr>\n",
       "      <th>4</th>\n",
       "      <td>Male</td>\n",
       "      <td>76.0</td>\n",
       "      <td>1</td>\n",
       "      <td>1</td>\n",
       "      <td>current</td>\n",
       "      <td>20.14</td>\n",
       "      <td>4.8</td>\n",
       "      <td>155</td>\n",
       "      <td>0</td>\n",
       "    </tr>\n",
       "  </tbody>\n",
       "</table>\n",
       "</div>"
      ],
      "text/plain": [
       "   gender   age  hypertension  heart_disease smoking_history    bmi  \\\n",
       "0  Female  80.0             0              1           never  25.19   \n",
       "1  Female  54.0             0              0         No Info  27.32   \n",
       "2    Male  28.0             0              0           never  27.32   \n",
       "3  Female  36.0             0              0         current  23.45   \n",
       "4    Male  76.0             1              1         current  20.14   \n",
       "\n",
       "   HbA1c_level  blood_glucose_level  diabetes  \n",
       "0          6.6                  140         0  \n",
       "1          6.6                   80         0  \n",
       "2          5.7                  158         0  \n",
       "3          5.0                  155         0  \n",
       "4          4.8                  155         0  "
      ]
     },
     "execution_count": 29,
     "metadata": {},
     "output_type": "execute_result"
    }
   ],
   "source": [
    "df.head()"
   ]
  },
  {
   "cell_type": "code",
   "execution_count": 30,
   "id": "73c73a56",
   "metadata": {},
   "outputs": [],
   "source": [
    "df[\"hypertension\"] = df[\"hypertension\"].astype(\"object\")"
   ]
  },
  {
   "cell_type": "code",
   "execution_count": 31,
   "id": "ea79ce9b",
   "metadata": {},
   "outputs": [],
   "source": [
    "df[\"heart_disease\"] = df[\"heart_disease\"].astype(\"object\")"
   ]
  },
  {
   "cell_type": "code",
   "execution_count": 32,
   "id": "847a3e95",
   "metadata": {},
   "outputs": [
    {
     "data": {
      "text/plain": [
       "0    83559\n",
       "1     7215\n",
       "Name: diabetes, dtype: int64"
      ]
     },
     "execution_count": 32,
     "metadata": {},
     "output_type": "execute_result"
    }
   ],
   "source": [
    "df[\"diabetes\"].value_counts()"
   ]
  },
  {
   "cell_type": "code",
   "execution_count": 33,
   "id": "c8b17109",
   "metadata": {},
   "outputs": [],
   "source": [
    "df[\"diabetes\"] = df[\"diabetes\"].astype(\"object\")"
   ]
  },
  {
   "cell_type": "code",
   "execution_count": 34,
   "id": "a485dcd3",
   "metadata": {},
   "outputs": [
    {
     "data": {
      "text/plain": [
       "<Axes: xlabel='diabetes', ylabel='count'>"
      ]
     },
     "execution_count": 34,
     "metadata": {},
     "output_type": "execute_result"
    },
    {
     "data": {
      "image/png": "[encoded data removed]",
      "text/plain": [
       "<Figure size 640x480 with 1 Axes>"
      ]
     },
     "metadata": {},
     "output_type": "display_data"
    }
   ],
   "source": [
    "sns.countplot(data=df,x=\"diabetes\")"
   ]
  },
  {
   "cell_type": "markdown",
   "id": "00097e90",
   "metadata": {},
   "source": [
    "### Observation : • There is a significant class imbalance in the dataset. Class 0 (indicating the absence of diabetes) has a much larger number of instances (83559) compared to Class1 (indicating the presence of diabetes) which has smaller number of instances(7215)."
   ]
  },
  {
   "cell_type": "markdown",
   "id": "6eb2ab2c",
   "metadata": {},
   "source": [
    "## Bivariate Analysis"
   ]
  },
  {
   "cell_type": "code",
   "execution_count": 35,
   "id": "bc2d4b6f",
   "metadata": {},
   "outputs": [
    {
     "data": {
      "text/plain": [
       "<Axes: xlabel='diabetes', ylabel='age'>"
      ]
     },
     "execution_count": 35,
     "metadata": {},
     "output_type": "execute_result"
    },
    {
     "data": {
      "image/png": "[encoded data removed]",
      "text/plain": [
       "<Figure size 640x480 with 1 Axes>"
      ]
     },
     "metadata": {},
     "output_type": "display_data"
    }
   ],
   "source": [
    "### age vs diabetes\n",
    "sns.boxplot(data=df,x=\"diabetes\",y=\"age\")"
   ]
  },
  {
   "cell_type": "code",
   "execution_count": 36,
   "id": "786aebc8",
   "metadata": {},
   "outputs": [
    {
     "name": "stdout",
     "output_type": "stream",
     "text": [
      "<class 'pandas.core.frame.DataFrame'>\n",
      "RangeIndex: 90774 entries, 0 to 90773\n",
      "Data columns (total 9 columns):\n",
      " #   Column               Non-Null Count  Dtype  \n",
      "---  ------               --------------  -----  \n",
      " 0   gender               90774 non-null  object \n",
      " 1   age                  90774 non-null  float64\n",
      " 2   hypertension         90774 non-null  object \n",
      " 3   heart_disease        90774 non-null  object \n",
      " 4   smoking_history      90774 non-null  object \n",
      " 5   bmi                  90774 non-null  float64\n",
      " 6   HbA1c_level          90774 non-null  float64\n",
      " 7   blood_glucose_level  90774 non-null  int64  \n",
      " 8   diabetes             90774 non-null  object \n",
      "dtypes: float64(3), int64(1), object(5)\n",
      "memory usage: 6.2+ MB\n"
     ]
    }
   ],
   "source": [
    "df.info()"
   ]
  },
  {
   "cell_type": "code",
   "execution_count": 37,
   "id": "50c4af02",
   "metadata": {},
   "outputs": [
    {
     "data": {
      "text/plain": [
       "<Axes: xlabel='diabetes', ylabel='bmi'>"
      ]
     },
     "execution_count": 37,
     "metadata": {},
     "output_type": "execute_result"
    },
    {
     "data": {
      "image/png": "[encoded data removed]",
      "text/plain": [
       "<Figure size 640x480 with 1 Axes>"
      ]
     },
     "metadata": {},
     "output_type": "display_data"
    }
   ],
   "source": [
    "## bmi vs diabetes\n",
    "sns.boxplot(data=df,x=\"diabetes\",y=\"bmi\")"
   ]
  },
  {
   "cell_type": "code",
   "execution_count": 38,
   "id": "86d85b36",
   "metadata": {},
   "outputs": [
    {
     "data": {
      "text/plain": [
       "<Axes: xlabel='diabetes', ylabel='HbA1c_level'>"
      ]
     },
     "execution_count": 38,
     "metadata": {},
     "output_type": "execute_result"
    },
    {
     "data": {
      "image/png": "[encoded data removed]",
      "text/plain": [
       "<Figure size 640x480 with 1 Axes>"
      ]
     },
     "metadata": {},
     "output_type": "display_data"
    }
   ],
   "source": [
    "## HbA1c_level vs diabetes\n",
    "sns.boxplot(data=df,x=\"diabetes\",y=\"HbA1c_level\")"
   ]
  },
  {
   "cell_type": "code",
   "execution_count": 39,
   "id": "f6e39a9f",
   "metadata": {},
   "outputs": [
    {
     "data": {
      "text/plain": [
       "<Axes: xlabel='diabetes', ylabel='blood_glucose_level'>"
      ]
     },
     "execution_count": 39,
     "metadata": {},
     "output_type": "execute_result"
    },
    {
     "data": {
      "image/png": "[encoded data removed]",
      "text/plain": [
       "<Figure size 640x480 with 1 Axes>"
      ]
     },
     "metadata": {},
     "output_type": "display_data"
    }
   ],
   "source": [
    "## blood_glucose_level vs diabetes\n",
    "sns.boxplot(data=df,x=\"diabetes\",y=\"blood_glucose_level\")"
   ]
  },
  {
   "cell_type": "markdown",
   "id": "ed251f1b",
   "metadata": {},
   "source": [
    "## Separating Input and Output"
   ]
  },
  {
   "cell_type": "code",
   "execution_count": 11,
   "id": "3e3246c2",
   "metadata": {},
   "outputs": [
    {
     "name": "stdout",
     "output_type": "stream",
     "text": [
      "<class 'pandas.core.frame.DataFrame'>\n",
      "Int64Index: 96146 entries, 0 to 99999\n",
      "Data columns (total 9 columns):\n",
      " #   Column               Non-Null Count  Dtype  \n",
      "---  ------               --------------  -----  \n",
      " 0   gender               96146 non-null  object \n",
      " 1   age                  96146 non-null  float64\n",
      " 2   hypertension         96146 non-null  int64  \n",
      " 3   heart_disease        96146 non-null  int64  \n",
      " 4   smoking_history      96146 non-null  object \n",
      " 5   bmi                  96146 non-null  float64\n",
      " 6   HbA1c_level          96146 non-null  float64\n",
      " 7   blood_glucose_level  96146 non-null  int64  \n",
      " 8   diabetes             96146 non-null  int64  \n",
      "dtypes: float64(3), int64(4), object(2)\n",
      "memory usage: 7.3+ MB\n"
     ]
    }
   ],
   "source": [
    "df.info()"
   ]
  },
  {
   "cell_type": "code",
   "execution_count": 12,
   "id": "6a3d77da",
   "metadata": {},
   "outputs": [],
   "source": [
    "x=df[[\"gender\",\"age\",\"hypertension\",\"heart_disease\",\"smoking_history\",\"bmi\",\"HbA1c_level\",\"blood_glucose_level\"]]"
   ]
  },
  {
   "cell_type": "code",
   "execution_count": 13,
   "id": "0e2f72df",
   "metadata": {},
   "outputs": [
    {
     "data": {
      "text/html": [
       "<div>\n",
       "<style scoped>\n",
       "    .dataframe tbody tr th:only-of-type {\n",
       "        vertical-align: middle;\n",
       "    }\n",
       "\n",
       "    .dataframe tbody tr th {\n",
       "        vertical-align: top;\n",
       "    }\n",
       "\n",
       "    .dataframe thead th {\n",
       "        text-align: right;\n",
       "    }\n",
       "</style>\n",
       "<table border=\"1\" class=\"dataframe\">\n",
       "  <thead>\n",
       "    <tr style=\"text-align: right;\">\n",
       "      <th></th>\n",
       "      <th>gender</th>\n",
       "      <th>age</th>\n",
       "      <th>hypertension</th>\n",
       "      <th>heart_disease</th>\n",
       "      <th>smoking_history</th>\n",
       "      <th>bmi</th>\n",
       "      <th>HbA1c_level</th>\n",
       "      <th>blood_glucose_level</th>\n",
       "    </tr>\n",
       "  </thead>\n",
       "  <tbody>\n",
       "    <tr>\n",
       "      <th>0</th>\n",
       "      <td>Female</td>\n",
       "      <td>80.0</td>\n",
       "      <td>0</td>\n",
       "      <td>1</td>\n",
       "      <td>never</td>\n",
       "      <td>25.19</td>\n",
       "      <td>6.6</td>\n",
       "      <td>140</td>\n",
       "    </tr>\n",
       "    <tr>\n",
       "      <th>1</th>\n",
       "      <td>Female</td>\n",
       "      <td>54.0</td>\n",
       "      <td>0</td>\n",
       "      <td>0</td>\n",
       "      <td>No Info</td>\n",
       "      <td>27.32</td>\n",
       "      <td>6.6</td>\n",
       "      <td>80</td>\n",
       "    </tr>\n",
       "    <tr>\n",
       "      <th>2</th>\n",
       "      <td>Male</td>\n",
       "      <td>28.0</td>\n",
       "      <td>0</td>\n",
       "      <td>0</td>\n",
       "      <td>never</td>\n",
       "      <td>27.32</td>\n",
       "      <td>5.7</td>\n",
       "      <td>158</td>\n",
       "    </tr>\n",
       "    <tr>\n",
       "      <th>3</th>\n",
       "      <td>Female</td>\n",
       "      <td>36.0</td>\n",
       "      <td>0</td>\n",
       "      <td>0</td>\n",
       "      <td>current</td>\n",
       "      <td>23.45</td>\n",
       "      <td>5.0</td>\n",
       "      <td>155</td>\n",
       "    </tr>\n",
       "    <tr>\n",
       "      <th>4</th>\n",
       "      <td>Male</td>\n",
       "      <td>76.0</td>\n",
       "      <td>1</td>\n",
       "      <td>1</td>\n",
       "      <td>current</td>\n",
       "      <td>20.14</td>\n",
       "      <td>4.8</td>\n",
       "      <td>155</td>\n",
       "    </tr>\n",
       "  </tbody>\n",
       "</table>\n",
       "</div>"
      ],
      "text/plain": [
       "   gender   age  hypertension  heart_disease smoking_history    bmi  \\\n",
       "0  Female  80.0             0              1           never  25.19   \n",
       "1  Female  54.0             0              0         No Info  27.32   \n",
       "2    Male  28.0             0              0           never  27.32   \n",
       "3  Female  36.0             0              0         current  23.45   \n",
       "4    Male  76.0             1              1         current  20.14   \n",
       "\n",
       "   HbA1c_level  blood_glucose_level  \n",
       "0          6.6                  140  \n",
       "1          6.6                   80  \n",
       "2          5.7                  158  \n",
       "3          5.0                  155  \n",
       "4          4.8                  155  "
      ]
     },
     "execution_count": 13,
     "metadata": {},
     "output_type": "execute_result"
    }
   ],
   "source": [
    "x.head()"
   ]
  },
  {
   "cell_type": "code",
   "execution_count": 14,
   "id": "de18e9bc",
   "metadata": {},
   "outputs": [],
   "source": [
    "y=df[\"diabetes\"]"
   ]
  },
  {
   "cell_type": "code",
   "execution_count": 15,
   "id": "dbdbddbf",
   "metadata": {},
   "outputs": [
    {
     "data": {
      "text/plain": [
       "0    0\n",
       "1    0\n",
       "2    0\n",
       "3    0\n",
       "4    0\n",
       "Name: diabetes, dtype: int64"
      ]
     },
     "execution_count": 15,
     "metadata": {},
     "output_type": "execute_result"
    }
   ],
   "source": [
    "y.head()"
   ]
  },
  {
   "cell_type": "code",
   "execution_count": 16,
   "id": "6141317f",
   "metadata": {},
   "outputs": [],
   "source": [
    "from sklearn.model_selection import train_test_split\n",
    "x_train,x_test,y_train,y_test = train_test_split(x,y,test_size= 0.2)"
   ]
  },
  {
   "cell_type": "code",
   "execution_count": 17,
   "id": "1ec10260",
   "metadata": {},
   "outputs": [
    {
     "data": {
      "text/plain": [
       "0    70187\n",
       "1     6729\n",
       "Name: diabetes, dtype: int64"
      ]
     },
     "execution_count": 17,
     "metadata": {},
     "output_type": "execute_result"
    }
   ],
   "source": [
    "y_train.value_counts()"
   ]
  },
  {
   "cell_type": "code",
   "execution_count": 18,
   "id": "799e3138",
   "metadata": {},
   "outputs": [
    {
     "data": {
      "text/plain": [
       "23167    0\n",
       "53444    0\n",
       "531      1\n",
       "16463    1\n",
       "65735    0\n",
       "Name: diabetes, dtype: int64"
      ]
     },
     "execution_count": 18,
     "metadata": {},
     "output_type": "execute_result"
    }
   ],
   "source": [
    "y_train.head()"
   ]
  },
  {
   "cell_type": "markdown",
   "id": "ff686b44",
   "metadata": {},
   "source": [
    "## Transforming Data"
   ]
  },
  {
   "cell_type": "code",
   "execution_count": 19,
   "id": "c4b0d24b",
   "metadata": {},
   "outputs": [],
   "source": [
    "from sklearn.model_selection import train_test_split\n",
    "from sklearn.preprocessing import StandardScaler,OneHotEncoder\n"
   ]
  },
  {
   "cell_type": "code",
   "execution_count": 20,
   "id": "ed79d5db",
   "metadata": {},
   "outputs": [
    {
     "data": {
      "text/html": [
       "<div>\n",
       "<style scoped>\n",
       "    .dataframe tbody tr th:only-of-type {\n",
       "        vertical-align: middle;\n",
       "    }\n",
       "\n",
       "    .dataframe tbody tr th {\n",
       "        vertical-align: top;\n",
       "    }\n",
       "\n",
       "    .dataframe thead th {\n",
       "        text-align: right;\n",
       "    }\n",
       "</style>\n",
       "<table border=\"1\" class=\"dataframe\">\n",
       "  <thead>\n",
       "    <tr style=\"text-align: right;\">\n",
       "      <th></th>\n",
       "      <th>gender</th>\n",
       "      <th>smoking_history</th>\n",
       "    </tr>\n",
       "  </thead>\n",
       "  <tbody>\n",
       "    <tr>\n",
       "      <th>23167</th>\n",
       "      <td>Female</td>\n",
       "      <td>never</td>\n",
       "    </tr>\n",
       "    <tr>\n",
       "      <th>53444</th>\n",
       "      <td>Male</td>\n",
       "      <td>ever</td>\n",
       "    </tr>\n",
       "    <tr>\n",
       "      <th>531</th>\n",
       "      <td>Female</td>\n",
       "      <td>not current</td>\n",
       "    </tr>\n",
       "    <tr>\n",
       "      <th>16463</th>\n",
       "      <td>Female</td>\n",
       "      <td>never</td>\n",
       "    </tr>\n",
       "    <tr>\n",
       "      <th>65735</th>\n",
       "      <td>Male</td>\n",
       "      <td>never</td>\n",
       "    </tr>\n",
       "  </tbody>\n",
       "</table>\n",
       "</div>"
      ],
      "text/plain": [
       "       gender smoking_history\n",
       "23167  Female           never\n",
       "53444    Male            ever\n",
       "531    Female     not current\n",
       "16463  Female           never\n",
       "65735    Male           never"
      ]
     },
     "execution_count": 20,
     "metadata": {},
     "output_type": "execute_result"
    }
   ],
   "source": [
    "x_train_cat=x_train.select_dtypes(include=\"object\")\n",
    "x_train_cat.head() "
   ]
  },
  {
   "cell_type": "code",
   "execution_count": 21,
   "id": "f432a5c9",
   "metadata": {},
   "outputs": [
    {
     "data": {
      "text/html": [
       "<div>\n",
       "<style scoped>\n",
       "    .dataframe tbody tr th:only-of-type {\n",
       "        vertical-align: middle;\n",
       "    }\n",
       "\n",
       "    .dataframe tbody tr th {\n",
       "        vertical-align: top;\n",
       "    }\n",
       "\n",
       "    .dataframe thead th {\n",
       "        text-align: right;\n",
       "    }\n",
       "</style>\n",
       "<table border=\"1\" class=\"dataframe\">\n",
       "  <thead>\n",
       "    <tr style=\"text-align: right;\">\n",
       "      <th></th>\n",
       "      <th>gender_Male</th>\n",
       "      <th>gender_Other</th>\n",
       "      <th>smoking_history_current</th>\n",
       "      <th>smoking_history_ever</th>\n",
       "      <th>smoking_history_former</th>\n",
       "      <th>smoking_history_never</th>\n",
       "      <th>smoking_history_not current</th>\n",
       "    </tr>\n",
       "  </thead>\n",
       "  <tbody>\n",
       "    <tr>\n",
       "      <th>23167</th>\n",
       "      <td>0.0</td>\n",
       "      <td>0.0</td>\n",
       "      <td>0.0</td>\n",
       "      <td>0.0</td>\n",
       "      <td>0.0</td>\n",
       "      <td>1.0</td>\n",
       "      <td>0.0</td>\n",
       "    </tr>\n",
       "    <tr>\n",
       "      <th>53444</th>\n",
       "      <td>1.0</td>\n",
       "      <td>0.0</td>\n",
       "      <td>0.0</td>\n",
       "      <td>1.0</td>\n",
       "      <td>0.0</td>\n",
       "      <td>0.0</td>\n",
       "      <td>0.0</td>\n",
       "    </tr>\n",
       "    <tr>\n",
       "      <th>531</th>\n",
       "      <td>0.0</td>\n",
       "      <td>0.0</td>\n",
       "      <td>0.0</td>\n",
       "      <td>0.0</td>\n",
       "      <td>0.0</td>\n",
       "      <td>0.0</td>\n",
       "      <td>1.0</td>\n",
       "    </tr>\n",
       "    <tr>\n",
       "      <th>16463</th>\n",
       "      <td>0.0</td>\n",
       "      <td>0.0</td>\n",
       "      <td>0.0</td>\n",
       "      <td>0.0</td>\n",
       "      <td>0.0</td>\n",
       "      <td>1.0</td>\n",
       "      <td>0.0</td>\n",
       "    </tr>\n",
       "    <tr>\n",
       "      <th>65735</th>\n",
       "      <td>1.0</td>\n",
       "      <td>0.0</td>\n",
       "      <td>0.0</td>\n",
       "      <td>0.0</td>\n",
       "      <td>0.0</td>\n",
       "      <td>1.0</td>\n",
       "      <td>0.0</td>\n",
       "    </tr>\n",
       "    <tr>\n",
       "      <th>...</th>\n",
       "      <td>...</td>\n",
       "      <td>...</td>\n",
       "      <td>...</td>\n",
       "      <td>...</td>\n",
       "      <td>...</td>\n",
       "      <td>...</td>\n",
       "      <td>...</td>\n",
       "    </tr>\n",
       "    <tr>\n",
       "      <th>43445</th>\n",
       "      <td>1.0</td>\n",
       "      <td>0.0</td>\n",
       "      <td>0.0</td>\n",
       "      <td>1.0</td>\n",
       "      <td>0.0</td>\n",
       "      <td>0.0</td>\n",
       "      <td>0.0</td>\n",
       "    </tr>\n",
       "    <tr>\n",
       "      <th>98934</th>\n",
       "      <td>1.0</td>\n",
       "      <td>0.0</td>\n",
       "      <td>0.0</td>\n",
       "      <td>0.0</td>\n",
       "      <td>0.0</td>\n",
       "      <td>1.0</td>\n",
       "      <td>0.0</td>\n",
       "    </tr>\n",
       "    <tr>\n",
       "      <th>70619</th>\n",
       "      <td>1.0</td>\n",
       "      <td>0.0</td>\n",
       "      <td>0.0</td>\n",
       "      <td>0.0</td>\n",
       "      <td>0.0</td>\n",
       "      <td>0.0</td>\n",
       "      <td>0.0</td>\n",
       "    </tr>\n",
       "    <tr>\n",
       "      <th>8967</th>\n",
       "      <td>0.0</td>\n",
       "      <td>0.0</td>\n",
       "      <td>0.0</td>\n",
       "      <td>0.0</td>\n",
       "      <td>0.0</td>\n",
       "      <td>0.0</td>\n",
       "      <td>0.0</td>\n",
       "    </tr>\n",
       "    <tr>\n",
       "      <th>75693</th>\n",
       "      <td>0.0</td>\n",
       "      <td>0.0</td>\n",
       "      <td>0.0</td>\n",
       "      <td>0.0</td>\n",
       "      <td>0.0</td>\n",
       "      <td>0.0</td>\n",
       "      <td>0.0</td>\n",
       "    </tr>\n",
       "  </tbody>\n",
       "</table>\n",
       "<p>76916 rows × 7 columns</p>\n",
       "</div>"
      ],
      "text/plain": [
       "       gender_Male  gender_Other  smoking_history_current  \\\n",
       "23167          0.0           0.0                      0.0   \n",
       "53444          1.0           0.0                      0.0   \n",
       "531            0.0           0.0                      0.0   \n",
       "16463          0.0           0.0                      0.0   \n",
       "65735          1.0           0.0                      0.0   \n",
       "...            ...           ...                      ...   \n",
       "43445          1.0           0.0                      0.0   \n",
       "98934          1.0           0.0                      0.0   \n",
       "70619          1.0           0.0                      0.0   \n",
       "8967           0.0           0.0                      0.0   \n",
       "75693          0.0           0.0                      0.0   \n",
       "\n",
       "       smoking_history_ever  smoking_history_former  smoking_history_never  \\\n",
       "23167                   0.0                     0.0                    1.0   \n",
       "53444                   1.0                     0.0                    0.0   \n",
       "531                     0.0                     0.0                    0.0   \n",
       "16463                   0.0                     0.0                    1.0   \n",
       "65735                   0.0                     0.0                    1.0   \n",
       "...                     ...                     ...                    ...   \n",
       "43445                   1.0                     0.0                    0.0   \n",
       "98934                   0.0                     0.0                    1.0   \n",
       "70619                   0.0                     0.0                    0.0   \n",
       "8967                    0.0                     0.0                    0.0   \n",
       "75693                   0.0                     0.0                    0.0   \n",
       "\n",
       "       smoking_history_not current  \n",
       "23167                          0.0  \n",
       "53444                          0.0  \n",
       "531                            1.0  \n",
       "16463                          0.0  \n",
       "65735                          0.0  \n",
       "...                            ...  \n",
       "43445                          0.0  \n",
       "98934                          0.0  \n",
       "70619                          0.0  \n",
       "8967                           0.0  \n",
       "75693                          0.0  \n",
       "\n",
       "[76916 rows x 7 columns]"
      ]
     },
     "execution_count": 21,
     "metadata": {},
     "output_type": "execute_result"
    }
   ],
   "source": [
    "#one hot encoding the cat features\n",
    "encoder = OneHotEncoder(drop='first', handle_unknown='ignore',sparse=False)\n",
    "\n",
    "x_train_cat =pd.DataFrame(encoder.fit_transform(x_train_cat),columns=encoder.get_feature_names_out(x_train_cat.columns), \n",
    "                               index = x_train_cat.index)\n",
    "        \n",
    "\n",
    "x_train_cat"
   ]
  },
  {
   "cell_type": "code",
   "execution_count": 22,
   "id": "59f893cd",
   "metadata": {},
   "outputs": [
    {
     "data": {
      "text/html": [
       "<div>\n",
       "<style scoped>\n",
       "    .dataframe tbody tr th:only-of-type {\n",
       "        vertical-align: middle;\n",
       "    }\n",
       "\n",
       "    .dataframe tbody tr th {\n",
       "        vertical-align: top;\n",
       "    }\n",
       "\n",
       "    .dataframe thead th {\n",
       "        text-align: right;\n",
       "    }\n",
       "</style>\n",
       "<table border=\"1\" class=\"dataframe\">\n",
       "  <thead>\n",
       "    <tr style=\"text-align: right;\">\n",
       "      <th></th>\n",
       "      <th>age</th>\n",
       "      <th>hypertension</th>\n",
       "      <th>heart_disease</th>\n",
       "      <th>bmi</th>\n",
       "      <th>HbA1c_level</th>\n",
       "      <th>blood_glucose_level</th>\n",
       "    </tr>\n",
       "  </thead>\n",
       "  <tbody>\n",
       "    <tr>\n",
       "      <th>23167</th>\n",
       "      <td>67.0</td>\n",
       "      <td>0</td>\n",
       "      <td>0</td>\n",
       "      <td>20.67</td>\n",
       "      <td>5.8</td>\n",
       "      <td>130</td>\n",
       "    </tr>\n",
       "    <tr>\n",
       "      <th>53444</th>\n",
       "      <td>64.0</td>\n",
       "      <td>1</td>\n",
       "      <td>0</td>\n",
       "      <td>30.13</td>\n",
       "      <td>3.5</td>\n",
       "      <td>100</td>\n",
       "    </tr>\n",
       "    <tr>\n",
       "      <th>531</th>\n",
       "      <td>49.0</td>\n",
       "      <td>1</td>\n",
       "      <td>0</td>\n",
       "      <td>36.93</td>\n",
       "      <td>8.8</td>\n",
       "      <td>155</td>\n",
       "    </tr>\n",
       "    <tr>\n",
       "      <th>16463</th>\n",
       "      <td>65.0</td>\n",
       "      <td>0</td>\n",
       "      <td>0</td>\n",
       "      <td>29.73</td>\n",
       "      <td>6.0</td>\n",
       "      <td>155</td>\n",
       "    </tr>\n",
       "    <tr>\n",
       "      <th>65735</th>\n",
       "      <td>58.0</td>\n",
       "      <td>0</td>\n",
       "      <td>0</td>\n",
       "      <td>42.12</td>\n",
       "      <td>5.0</td>\n",
       "      <td>80</td>\n",
       "    </tr>\n",
       "  </tbody>\n",
       "</table>\n",
       "</div>"
      ],
      "text/plain": [
       "        age  hypertension  heart_disease    bmi  HbA1c_level  \\\n",
       "23167  67.0             0              0  20.67          5.8   \n",
       "53444  64.0             1              0  30.13          3.5   \n",
       "531    49.0             1              0  36.93          8.8   \n",
       "16463  65.0             0              0  29.73          6.0   \n",
       "65735  58.0             0              0  42.12          5.0   \n",
       "\n",
       "       blood_glucose_level  \n",
       "23167                  130  \n",
       "53444                  100  \n",
       "531                    155  \n",
       "16463                  155  \n",
       "65735                   80  "
      ]
     },
     "execution_count": 22,
     "metadata": {},
     "output_type": "execute_result"
    }
   ],
   "source": [
    "#numerical features\n",
    "x_train_num=x_train.select_dtypes(include=[\"int32\",\"int64\",\"float64\"])\n",
    "x_train_num.head() "
   ]
  },
  {
   "cell_type": "code",
   "execution_count": 23,
   "id": "93c8ace7",
   "metadata": {},
   "outputs": [
    {
     "data": {
      "text/html": [
       "<div>\n",
       "<style scoped>\n",
       "    .dataframe tbody tr th:only-of-type {\n",
       "        vertical-align: middle;\n",
       "    }\n",
       "\n",
       "    .dataframe tbody tr th {\n",
       "        vertical-align: top;\n",
       "    }\n",
       "\n",
       "    .dataframe thead th {\n",
       "        text-align: right;\n",
       "    }\n",
       "</style>\n",
       "<table border=\"1\" class=\"dataframe\">\n",
       "  <thead>\n",
       "    <tr style=\"text-align: right;\">\n",
       "      <th></th>\n",
       "      <th>age</th>\n",
       "      <th>hypertension</th>\n",
       "      <th>heart_disease</th>\n",
       "      <th>bmi</th>\n",
       "      <th>HbA1c_level</th>\n",
       "      <th>blood_glucose_level</th>\n",
       "    </tr>\n",
       "  </thead>\n",
       "  <tbody>\n",
       "    <tr>\n",
       "      <th>23167</th>\n",
       "      <td>1.122943</td>\n",
       "      <td>-0.290557</td>\n",
       "      <td>-0.205205</td>\n",
       "      <td>-0.981991</td>\n",
       "      <td>0.249872</td>\n",
       "      <td>-0.202309</td>\n",
       "    </tr>\n",
       "    <tr>\n",
       "      <th>53444</th>\n",
       "      <td>0.989340</td>\n",
       "      <td>3.441660</td>\n",
       "      <td>-0.205205</td>\n",
       "      <td>0.416349</td>\n",
       "      <td>-1.895944</td>\n",
       "      <td>-0.937455</td>\n",
       "    </tr>\n",
       "    <tr>\n",
       "      <th>531</th>\n",
       "      <td>0.321325</td>\n",
       "      <td>3.441660</td>\n",
       "      <td>-0.205205</td>\n",
       "      <td>1.421498</td>\n",
       "      <td>3.048763</td>\n",
       "      <td>0.410313</td>\n",
       "    </tr>\n",
       "    <tr>\n",
       "      <th>16463</th>\n",
       "      <td>1.033874</td>\n",
       "      <td>-0.290557</td>\n",
       "      <td>-0.205205</td>\n",
       "      <td>0.357223</td>\n",
       "      <td>0.436465</td>\n",
       "      <td>0.410313</td>\n",
       "    </tr>\n",
       "    <tr>\n",
       "      <th>65735</th>\n",
       "      <td>0.722134</td>\n",
       "      <td>-0.290557</td>\n",
       "      <td>-0.205205</td>\n",
       "      <td>2.188663</td>\n",
       "      <td>-0.496499</td>\n",
       "      <td>-1.427553</td>\n",
       "    </tr>\n",
       "    <tr>\n",
       "      <th>...</th>\n",
       "      <td>...</td>\n",
       "      <td>...</td>\n",
       "      <td>...</td>\n",
       "      <td>...</td>\n",
       "      <td>...</td>\n",
       "      <td>...</td>\n",
       "    </tr>\n",
       "    <tr>\n",
       "      <th>43445</th>\n",
       "      <td>-0.168553</td>\n",
       "      <td>-0.290557</td>\n",
       "      <td>-0.205205</td>\n",
       "      <td>0.544949</td>\n",
       "      <td>0.436465</td>\n",
       "      <td>-1.182504</td>\n",
       "    </tr>\n",
       "    <tr>\n",
       "      <th>98934</th>\n",
       "      <td>0.232256</td>\n",
       "      <td>-0.290557</td>\n",
       "      <td>-0.205205</td>\n",
       "      <td>0.018724</td>\n",
       "      <td>-0.683092</td>\n",
       "      <td>0.532838</td>\n",
       "    </tr>\n",
       "    <tr>\n",
       "      <th>70619</th>\n",
       "      <td>-0.569362</td>\n",
       "      <td>-0.290557</td>\n",
       "      <td>-0.205205</td>\n",
       "      <td>1.134735</td>\n",
       "      <td>0.529761</td>\n",
       "      <td>-0.300328</td>\n",
       "    </tr>\n",
       "    <tr>\n",
       "      <th>8967</th>\n",
       "      <td>-0.346690</td>\n",
       "      <td>-0.290557</td>\n",
       "      <td>-0.205205</td>\n",
       "      <td>-0.531152</td>\n",
       "      <td>0.156575</td>\n",
       "      <td>-0.937455</td>\n",
       "    </tr>\n",
       "    <tr>\n",
       "      <th>75693</th>\n",
       "      <td>-1.059240</td>\n",
       "      <td>-0.290557</td>\n",
       "      <td>-0.205205</td>\n",
       "      <td>-1.146067</td>\n",
       "      <td>-0.496499</td>\n",
       "      <td>0.410313</td>\n",
       "    </tr>\n",
       "  </tbody>\n",
       "</table>\n",
       "<p>76916 rows × 6 columns</p>\n",
       "</div>"
      ],
      "text/plain": [
       "            age  hypertension  heart_disease       bmi  HbA1c_level  \\\n",
       "23167  1.122943     -0.290557      -0.205205 -0.981991     0.249872   \n",
       "53444  0.989340      3.441660      -0.205205  0.416349    -1.895944   \n",
       "531    0.321325      3.441660      -0.205205  1.421498     3.048763   \n",
       "16463  1.033874     -0.290557      -0.205205  0.357223     0.436465   \n",
       "65735  0.722134     -0.290557      -0.205205  2.188663    -0.496499   \n",
       "...         ...           ...            ...       ...          ...   \n",
       "43445 -0.168553     -0.290557      -0.205205  0.544949     0.436465   \n",
       "98934  0.232256     -0.290557      -0.205205  0.018724    -0.683092   \n",
       "70619 -0.569362     -0.290557      -0.205205  1.134735     0.529761   \n",
       "8967  -0.346690     -0.290557      -0.205205 -0.531152     0.156575   \n",
       "75693 -1.059240     -0.290557      -0.205205 -1.146067    -0.496499   \n",
       "\n",
       "       blood_glucose_level  \n",
       "23167            -0.202309  \n",
       "53444            -0.937455  \n",
       "531               0.410313  \n",
       "16463             0.410313  \n",
       "65735            -1.427553  \n",
       "...                    ...  \n",
       "43445            -1.182504  \n",
       "98934             0.532838  \n",
       "70619            -0.300328  \n",
       "8967             -0.937455  \n",
       "75693             0.410313  \n",
       "\n",
       "[76916 rows x 6 columns]"
      ]
     },
     "execution_count": 23,
     "metadata": {},
     "output_type": "execute_result"
    }
   ],
   "source": [
    "#standardizing the num features \n",
    "scaler=StandardScaler()\n",
    "x_train_num=pd.DataFrame(scaler.fit_transform(x_train_num),columns=x_train_num.columns,index=x_train_num.index)\n",
    "x_train_num"
   ]
  },
  {
   "cell_type": "code",
   "execution_count": 24,
   "id": "d2d8de2a",
   "metadata": {},
   "outputs": [
    {
     "data": {
      "text/html": [
       "<div>\n",
       "<style scoped>\n",
       "    .dataframe tbody tr th:only-of-type {\n",
       "        vertical-align: middle;\n",
       "    }\n",
       "\n",
       "    .dataframe tbody tr th {\n",
       "        vertical-align: top;\n",
       "    }\n",
       "\n",
       "    .dataframe thead th {\n",
       "        text-align: right;\n",
       "    }\n",
       "</style>\n",
       "<table border=\"1\" class=\"dataframe\">\n",
       "  <thead>\n",
       "    <tr style=\"text-align: right;\">\n",
       "      <th></th>\n",
       "      <th>gender_Male</th>\n",
       "      <th>gender_Other</th>\n",
       "      <th>smoking_history_current</th>\n",
       "      <th>smoking_history_ever</th>\n",
       "      <th>smoking_history_former</th>\n",
       "      <th>smoking_history_never</th>\n",
       "      <th>smoking_history_not current</th>\n",
       "      <th>age</th>\n",
       "      <th>hypertension</th>\n",
       "      <th>heart_disease</th>\n",
       "      <th>bmi</th>\n",
       "      <th>HbA1c_level</th>\n",
       "      <th>blood_glucose_level</th>\n",
       "    </tr>\n",
       "  </thead>\n",
       "  <tbody>\n",
       "    <tr>\n",
       "      <th>23167</th>\n",
       "      <td>0.0</td>\n",
       "      <td>0.0</td>\n",
       "      <td>0.0</td>\n",
       "      <td>0.0</td>\n",
       "      <td>0.0</td>\n",
       "      <td>1.0</td>\n",
       "      <td>0.0</td>\n",
       "      <td>1.122943</td>\n",
       "      <td>-0.290557</td>\n",
       "      <td>-0.205205</td>\n",
       "      <td>-0.981991</td>\n",
       "      <td>0.249872</td>\n",
       "      <td>-0.202309</td>\n",
       "    </tr>\n",
       "    <tr>\n",
       "      <th>53444</th>\n",
       "      <td>1.0</td>\n",
       "      <td>0.0</td>\n",
       "      <td>0.0</td>\n",
       "      <td>1.0</td>\n",
       "      <td>0.0</td>\n",
       "      <td>0.0</td>\n",
       "      <td>0.0</td>\n",
       "      <td>0.989340</td>\n",
       "      <td>3.441660</td>\n",
       "      <td>-0.205205</td>\n",
       "      <td>0.416349</td>\n",
       "      <td>-1.895944</td>\n",
       "      <td>-0.937455</td>\n",
       "    </tr>\n",
       "    <tr>\n",
       "      <th>531</th>\n",
       "      <td>0.0</td>\n",
       "      <td>0.0</td>\n",
       "      <td>0.0</td>\n",
       "      <td>0.0</td>\n",
       "      <td>0.0</td>\n",
       "      <td>0.0</td>\n",
       "      <td>1.0</td>\n",
       "      <td>0.321325</td>\n",
       "      <td>3.441660</td>\n",
       "      <td>-0.205205</td>\n",
       "      <td>1.421498</td>\n",
       "      <td>3.048763</td>\n",
       "      <td>0.410313</td>\n",
       "    </tr>\n",
       "    <tr>\n",
       "      <th>16463</th>\n",
       "      <td>0.0</td>\n",
       "      <td>0.0</td>\n",
       "      <td>0.0</td>\n",
       "      <td>0.0</td>\n",
       "      <td>0.0</td>\n",
       "      <td>1.0</td>\n",
       "      <td>0.0</td>\n",
       "      <td>1.033874</td>\n",
       "      <td>-0.290557</td>\n",
       "      <td>-0.205205</td>\n",
       "      <td>0.357223</td>\n",
       "      <td>0.436465</td>\n",
       "      <td>0.410313</td>\n",
       "    </tr>\n",
       "    <tr>\n",
       "      <th>65735</th>\n",
       "      <td>1.0</td>\n",
       "      <td>0.0</td>\n",
       "      <td>0.0</td>\n",
       "      <td>0.0</td>\n",
       "      <td>0.0</td>\n",
       "      <td>1.0</td>\n",
       "      <td>0.0</td>\n",
       "      <td>0.722134</td>\n",
       "      <td>-0.290557</td>\n",
       "      <td>-0.205205</td>\n",
       "      <td>2.188663</td>\n",
       "      <td>-0.496499</td>\n",
       "      <td>-1.427553</td>\n",
       "    </tr>\n",
       "    <tr>\n",
       "      <th>...</th>\n",
       "      <td>...</td>\n",
       "      <td>...</td>\n",
       "      <td>...</td>\n",
       "      <td>...</td>\n",
       "      <td>...</td>\n",
       "      <td>...</td>\n",
       "      <td>...</td>\n",
       "      <td>...</td>\n",
       "      <td>...</td>\n",
       "      <td>...</td>\n",
       "      <td>...</td>\n",
       "      <td>...</td>\n",
       "      <td>...</td>\n",
       "    </tr>\n",
       "    <tr>\n",
       "      <th>43445</th>\n",
       "      <td>1.0</td>\n",
       "      <td>0.0</td>\n",
       "      <td>0.0</td>\n",
       "      <td>1.0</td>\n",
       "      <td>0.0</td>\n",
       "      <td>0.0</td>\n",
       "      <td>0.0</td>\n",
       "      <td>-0.168553</td>\n",
       "      <td>-0.290557</td>\n",
       "      <td>-0.205205</td>\n",
       "      <td>0.544949</td>\n",
       "      <td>0.436465</td>\n",
       "      <td>-1.182504</td>\n",
       "    </tr>\n",
       "    <tr>\n",
       "      <th>98934</th>\n",
       "      <td>1.0</td>\n",
       "      <td>0.0</td>\n",
       "      <td>0.0</td>\n",
       "      <td>0.0</td>\n",
       "      <td>0.0</td>\n",
       "      <td>1.0</td>\n",
       "      <td>0.0</td>\n",
       "      <td>0.232256</td>\n",
       "      <td>-0.290557</td>\n",
       "      <td>-0.205205</td>\n",
       "      <td>0.018724</td>\n",
       "      <td>-0.683092</td>\n",
       "      <td>0.532838</td>\n",
       "    </tr>\n",
       "    <tr>\n",
       "      <th>70619</th>\n",
       "      <td>1.0</td>\n",
       "      <td>0.0</td>\n",
       "      <td>0.0</td>\n",
       "      <td>0.0</td>\n",
       "      <td>0.0</td>\n",
       "      <td>0.0</td>\n",
       "      <td>0.0</td>\n",
       "      <td>-0.569362</td>\n",
       "      <td>-0.290557</td>\n",
       "      <td>-0.205205</td>\n",
       "      <td>1.134735</td>\n",
       "      <td>0.529761</td>\n",
       "      <td>-0.300328</td>\n",
       "    </tr>\n",
       "    <tr>\n",
       "      <th>8967</th>\n",
       "      <td>0.0</td>\n",
       "      <td>0.0</td>\n",
       "      <td>0.0</td>\n",
       "      <td>0.0</td>\n",
       "      <td>0.0</td>\n",
       "      <td>0.0</td>\n",
       "      <td>0.0</td>\n",
       "      <td>-0.346690</td>\n",
       "      <td>-0.290557</td>\n",
       "      <td>-0.205205</td>\n",
       "      <td>-0.531152</td>\n",
       "      <td>0.156575</td>\n",
       "      <td>-0.937455</td>\n",
       "    </tr>\n",
       "    <tr>\n",
       "      <th>75693</th>\n",
       "      <td>0.0</td>\n",
       "      <td>0.0</td>\n",
       "      <td>0.0</td>\n",
       "      <td>0.0</td>\n",
       "      <td>0.0</td>\n",
       "      <td>0.0</td>\n",
       "      <td>0.0</td>\n",
       "      <td>-1.059240</td>\n",
       "      <td>-0.290557</td>\n",
       "      <td>-0.205205</td>\n",
       "      <td>-1.146067</td>\n",
       "      <td>-0.496499</td>\n",
       "      <td>0.410313</td>\n",
       "    </tr>\n",
       "  </tbody>\n",
       "</table>\n",
       "<p>76916 rows × 13 columns</p>\n",
       "</div>"
      ],
      "text/plain": [
       "       gender_Male  gender_Other  smoking_history_current  \\\n",
       "23167          0.0           0.0                      0.0   \n",
       "53444          1.0           0.0                      0.0   \n",
       "531            0.0           0.0                      0.0   \n",
       "16463          0.0           0.0                      0.0   \n",
       "65735          1.0           0.0                      0.0   \n",
       "...            ...           ...                      ...   \n",
       "43445          1.0           0.0                      0.0   \n",
       "98934          1.0           0.0                      0.0   \n",
       "70619          1.0           0.0                      0.0   \n",
       "8967           0.0           0.0                      0.0   \n",
       "75693          0.0           0.0                      0.0   \n",
       "\n",
       "       smoking_history_ever  smoking_history_former  smoking_history_never  \\\n",
       "23167                   0.0                     0.0                    1.0   \n",
       "53444                   1.0                     0.0                    0.0   \n",
       "531                     0.0                     0.0                    0.0   \n",
       "16463                   0.0                     0.0                    1.0   \n",
       "65735                   0.0                     0.0                    1.0   \n",
       "...                     ...                     ...                    ...   \n",
       "43445                   1.0                     0.0                    0.0   \n",
       "98934                   0.0                     0.0                    1.0   \n",
       "70619                   0.0                     0.0                    0.0   \n",
       "8967                    0.0                     0.0                    0.0   \n",
       "75693                   0.0                     0.0                    0.0   \n",
       "\n",
       "       smoking_history_not current       age  hypertension  heart_disease  \\\n",
       "23167                          0.0  1.122943     -0.290557      -0.205205   \n",
       "53444                          0.0  0.989340      3.441660      -0.205205   \n",
       "531                            1.0  0.321325      3.441660      -0.205205   \n",
       "16463                          0.0  1.033874     -0.290557      -0.205205   \n",
       "65735                          0.0  0.722134     -0.290557      -0.205205   \n",
       "...                            ...       ...           ...            ...   \n",
       "43445                          0.0 -0.168553     -0.290557      -0.205205   \n",
       "98934                          0.0  0.232256     -0.290557      -0.205205   \n",
       "70619                          0.0 -0.569362     -0.290557      -0.205205   \n",
       "8967                           0.0 -0.346690     -0.290557      -0.205205   \n",
       "75693                          0.0 -1.059240     -0.290557      -0.205205   \n",
       "\n",
       "            bmi  HbA1c_level  blood_glucose_level  \n",
       "23167 -0.981991     0.249872            -0.202309  \n",
       "53444  0.416349    -1.895944            -0.937455  \n",
       "531    1.421498     3.048763             0.410313  \n",
       "16463  0.357223     0.436465             0.410313  \n",
       "65735  2.188663    -0.496499            -1.427553  \n",
       "...         ...          ...                  ...  \n",
       "43445  0.544949     0.436465            -1.182504  \n",
       "98934  0.018724    -0.683092             0.532838  \n",
       "70619  1.134735     0.529761            -0.300328  \n",
       "8967  -0.531152     0.156575            -0.937455  \n",
       "75693 -1.146067    -0.496499             0.410313  \n",
       "\n",
       "[76916 rows x 13 columns]"
      ]
     },
     "execution_count": 24,
     "metadata": {},
     "output_type": "execute_result"
    }
   ],
   "source": [
    "X_train=pd.concat([x_train_cat,x_train_num],axis=1)\n",
    "X_train"
   ]
  },
  {
   "cell_type": "markdown",
   "id": "a7792971",
   "metadata": {},
   "source": [
    "### Transforming Test features"
   ]
  },
  {
   "cell_type": "code",
   "execution_count": 25,
   "id": "2d4f8de9",
   "metadata": {},
   "outputs": [
    {
     "data": {
      "text/html": [
       "<div>\n",
       "<style scoped>\n",
       "    .dataframe tbody tr th:only-of-type {\n",
       "        vertical-align: middle;\n",
       "    }\n",
       "\n",
       "    .dataframe tbody tr th {\n",
       "        vertical-align: top;\n",
       "    }\n",
       "\n",
       "    .dataframe thead th {\n",
       "        text-align: right;\n",
       "    }\n",
       "</style>\n",
       "<table border=\"1\" class=\"dataframe\">\n",
       "  <thead>\n",
       "    <tr style=\"text-align: right;\">\n",
       "      <th></th>\n",
       "      <th>gender</th>\n",
       "      <th>smoking_history</th>\n",
       "    </tr>\n",
       "  </thead>\n",
       "  <tbody>\n",
       "    <tr>\n",
       "      <th>76807</th>\n",
       "      <td>Female</td>\n",
       "      <td>No Info</td>\n",
       "    </tr>\n",
       "    <tr>\n",
       "      <th>33445</th>\n",
       "      <td>Female</td>\n",
       "      <td>never</td>\n",
       "    </tr>\n",
       "    <tr>\n",
       "      <th>57530</th>\n",
       "      <td>Male</td>\n",
       "      <td>never</td>\n",
       "    </tr>\n",
       "    <tr>\n",
       "      <th>40106</th>\n",
       "      <td>Male</td>\n",
       "      <td>current</td>\n",
       "    </tr>\n",
       "    <tr>\n",
       "      <th>53119</th>\n",
       "      <td>Female</td>\n",
       "      <td>never</td>\n",
       "    </tr>\n",
       "  </tbody>\n",
       "</table>\n",
       "</div>"
      ],
      "text/plain": [
       "       gender smoking_history\n",
       "76807  Female         No Info\n",
       "33445  Female           never\n",
       "57530    Male           never\n",
       "40106    Male         current\n",
       "53119  Female           never"
      ]
     },
     "execution_count": 25,
     "metadata": {},
     "output_type": "execute_result"
    }
   ],
   "source": [
    "x_test_cat=x_test.select_dtypes(include=\"object\")\n",
    "x_test_cat.head() "
   ]
  },
  {
   "cell_type": "code",
   "execution_count": 26,
   "id": "eca90d96",
   "metadata": {},
   "outputs": [
    {
     "data": {
      "text/html": [
       "<div>\n",
       "<style scoped>\n",
       "    .dataframe tbody tr th:only-of-type {\n",
       "        vertical-align: middle;\n",
       "    }\n",
       "\n",
       "    .dataframe tbody tr th {\n",
       "        vertical-align: top;\n",
       "    }\n",
       "\n",
       "    .dataframe thead th {\n",
       "        text-align: right;\n",
       "    }\n",
       "</style>\n",
       "<table border=\"1\" class=\"dataframe\">\n",
       "  <thead>\n",
       "    <tr style=\"text-align: right;\">\n",
       "      <th></th>\n",
       "      <th>gender_Male</th>\n",
       "      <th>gender_Other</th>\n",
       "      <th>smoking_history_current</th>\n",
       "      <th>smoking_history_ever</th>\n",
       "      <th>smoking_history_former</th>\n",
       "      <th>smoking_history_never</th>\n",
       "      <th>smoking_history_not current</th>\n",
       "    </tr>\n",
       "  </thead>\n",
       "  <tbody>\n",
       "    <tr>\n",
       "      <th>76807</th>\n",
       "      <td>0.0</td>\n",
       "      <td>0.0</td>\n",
       "      <td>0.0</td>\n",
       "      <td>0.0</td>\n",
       "      <td>0.0</td>\n",
       "      <td>0.0</td>\n",
       "      <td>0.0</td>\n",
       "    </tr>\n",
       "    <tr>\n",
       "      <th>33445</th>\n",
       "      <td>0.0</td>\n",
       "      <td>0.0</td>\n",
       "      <td>0.0</td>\n",
       "      <td>0.0</td>\n",
       "      <td>0.0</td>\n",
       "      <td>1.0</td>\n",
       "      <td>0.0</td>\n",
       "    </tr>\n",
       "    <tr>\n",
       "      <th>57530</th>\n",
       "      <td>1.0</td>\n",
       "      <td>0.0</td>\n",
       "      <td>0.0</td>\n",
       "      <td>0.0</td>\n",
       "      <td>0.0</td>\n",
       "      <td>1.0</td>\n",
       "      <td>0.0</td>\n",
       "    </tr>\n",
       "    <tr>\n",
       "      <th>40106</th>\n",
       "      <td>1.0</td>\n",
       "      <td>0.0</td>\n",
       "      <td>1.0</td>\n",
       "      <td>0.0</td>\n",
       "      <td>0.0</td>\n",
       "      <td>0.0</td>\n",
       "      <td>0.0</td>\n",
       "    </tr>\n",
       "    <tr>\n",
       "      <th>53119</th>\n",
       "      <td>0.0</td>\n",
       "      <td>0.0</td>\n",
       "      <td>0.0</td>\n",
       "      <td>0.0</td>\n",
       "      <td>0.0</td>\n",
       "      <td>1.0</td>\n",
       "      <td>0.0</td>\n",
       "    </tr>\n",
       "    <tr>\n",
       "      <th>...</th>\n",
       "      <td>...</td>\n",
       "      <td>...</td>\n",
       "      <td>...</td>\n",
       "      <td>...</td>\n",
       "      <td>...</td>\n",
       "      <td>...</td>\n",
       "      <td>...</td>\n",
       "    </tr>\n",
       "    <tr>\n",
       "      <th>38086</th>\n",
       "      <td>1.0</td>\n",
       "      <td>0.0</td>\n",
       "      <td>0.0</td>\n",
       "      <td>0.0</td>\n",
       "      <td>1.0</td>\n",
       "      <td>0.0</td>\n",
       "      <td>0.0</td>\n",
       "    </tr>\n",
       "    <tr>\n",
       "      <th>63544</th>\n",
       "      <td>0.0</td>\n",
       "      <td>0.0</td>\n",
       "      <td>0.0</td>\n",
       "      <td>0.0</td>\n",
       "      <td>0.0</td>\n",
       "      <td>1.0</td>\n",
       "      <td>0.0</td>\n",
       "    </tr>\n",
       "    <tr>\n",
       "      <th>33497</th>\n",
       "      <td>0.0</td>\n",
       "      <td>0.0</td>\n",
       "      <td>0.0</td>\n",
       "      <td>0.0</td>\n",
       "      <td>1.0</td>\n",
       "      <td>0.0</td>\n",
       "      <td>0.0</td>\n",
       "    </tr>\n",
       "    <tr>\n",
       "      <th>64878</th>\n",
       "      <td>1.0</td>\n",
       "      <td>0.0</td>\n",
       "      <td>1.0</td>\n",
       "      <td>0.0</td>\n",
       "      <td>0.0</td>\n",
       "      <td>0.0</td>\n",
       "      <td>0.0</td>\n",
       "    </tr>\n",
       "    <tr>\n",
       "      <th>23519</th>\n",
       "      <td>0.0</td>\n",
       "      <td>0.0</td>\n",
       "      <td>1.0</td>\n",
       "      <td>0.0</td>\n",
       "      <td>0.0</td>\n",
       "      <td>0.0</td>\n",
       "      <td>0.0</td>\n",
       "    </tr>\n",
       "  </tbody>\n",
       "</table>\n",
       "<p>19230 rows × 7 columns</p>\n",
       "</div>"
      ],
      "text/plain": [
       "       gender_Male  gender_Other  smoking_history_current  \\\n",
       "76807          0.0           0.0                      0.0   \n",
       "33445          0.0           0.0                      0.0   \n",
       "57530          1.0           0.0                      0.0   \n",
       "40106          1.0           0.0                      1.0   \n",
       "53119          0.0           0.0                      0.0   \n",
       "...            ...           ...                      ...   \n",
       "38086          1.0           0.0                      0.0   \n",
       "63544          0.0           0.0                      0.0   \n",
       "33497          0.0           0.0                      0.0   \n",
       "64878          1.0           0.0                      1.0   \n",
       "23519          0.0           0.0                      1.0   \n",
       "\n",
       "       smoking_history_ever  smoking_history_former  smoking_history_never  \\\n",
       "76807                   0.0                     0.0                    0.0   \n",
       "33445                   0.0                     0.0                    1.0   \n",
       "57530                   0.0                     0.0                    1.0   \n",
       "40106                   0.0                     0.0                    0.0   \n",
       "53119                   0.0                     0.0                    1.0   \n",
       "...                     ...                     ...                    ...   \n",
       "38086                   0.0                     1.0                    0.0   \n",
       "63544                   0.0                     0.0                    1.0   \n",
       "33497                   0.0                     1.0                    0.0   \n",
       "64878                   0.0                     0.0                    0.0   \n",
       "23519                   0.0                     0.0                    0.0   \n",
       "\n",
       "       smoking_history_not current  \n",
       "76807                          0.0  \n",
       "33445                          0.0  \n",
       "57530                          0.0  \n",
       "40106                          0.0  \n",
       "53119                          0.0  \n",
       "...                            ...  \n",
       "38086                          0.0  \n",
       "63544                          0.0  \n",
       "33497                          0.0  \n",
       "64878                          0.0  \n",
       "23519                          0.0  \n",
       "\n",
       "[19230 rows x 7 columns]"
      ]
     },
     "execution_count": 26,
     "metadata": {},
     "output_type": "execute_result"
    }
   ],
   "source": [
    "x_test_cat =pd.DataFrame(encoder.transform(x_test_cat),columns=encoder.get_feature_names_out(x_test_cat.columns), \n",
    "                               index = x_test_cat.index)\n",
    "        \n",
    "\n",
    "x_test_cat   "
   ]
  },
  {
   "cell_type": "code",
   "execution_count": 27,
   "id": "922daba9",
   "metadata": {},
   "outputs": [
    {
     "data": {
      "text/html": [
       "<div>\n",
       "<style scoped>\n",
       "    .dataframe tbody tr th:only-of-type {\n",
       "        vertical-align: middle;\n",
       "    }\n",
       "\n",
       "    .dataframe tbody tr th {\n",
       "        vertical-align: top;\n",
       "    }\n",
       "\n",
       "    .dataframe thead th {\n",
       "        text-align: right;\n",
       "    }\n",
       "</style>\n",
       "<table border=\"1\" class=\"dataframe\">\n",
       "  <thead>\n",
       "    <tr style=\"text-align: right;\">\n",
       "      <th></th>\n",
       "      <th>age</th>\n",
       "      <th>hypertension</th>\n",
       "      <th>heart_disease</th>\n",
       "      <th>bmi</th>\n",
       "      <th>HbA1c_level</th>\n",
       "      <th>blood_glucose_level</th>\n",
       "    </tr>\n",
       "  </thead>\n",
       "  <tbody>\n",
       "    <tr>\n",
       "      <th>76807</th>\n",
       "      <td>20.0</td>\n",
       "      <td>0</td>\n",
       "      <td>0</td>\n",
       "      <td>25.52</td>\n",
       "      <td>4.5</td>\n",
       "      <td>130</td>\n",
       "    </tr>\n",
       "    <tr>\n",
       "      <th>33445</th>\n",
       "      <td>38.0</td>\n",
       "      <td>0</td>\n",
       "      <td>0</td>\n",
       "      <td>42.12</td>\n",
       "      <td>4.8</td>\n",
       "      <td>90</td>\n",
       "    </tr>\n",
       "    <tr>\n",
       "      <th>57530</th>\n",
       "      <td>48.0</td>\n",
       "      <td>0</td>\n",
       "      <td>0</td>\n",
       "      <td>23.66</td>\n",
       "      <td>6.2</td>\n",
       "      <td>200</td>\n",
       "    </tr>\n",
       "    <tr>\n",
       "      <th>40106</th>\n",
       "      <td>41.0</td>\n",
       "      <td>0</td>\n",
       "      <td>0</td>\n",
       "      <td>27.44</td>\n",
       "      <td>6.5</td>\n",
       "      <td>90</td>\n",
       "    </tr>\n",
       "    <tr>\n",
       "      <th>53119</th>\n",
       "      <td>23.0</td>\n",
       "      <td>0</td>\n",
       "      <td>0</td>\n",
       "      <td>27.32</td>\n",
       "      <td>3.5</td>\n",
       "      <td>100</td>\n",
       "    </tr>\n",
       "  </tbody>\n",
       "</table>\n",
       "</div>"
      ],
      "text/plain": [
       "        age  hypertension  heart_disease    bmi  HbA1c_level  \\\n",
       "76807  20.0             0              0  25.52          4.5   \n",
       "33445  38.0             0              0  42.12          4.8   \n",
       "57530  48.0             0              0  23.66          6.2   \n",
       "40106  41.0             0              0  27.44          6.5   \n",
       "53119  23.0             0              0  27.32          3.5   \n",
       "\n",
       "       blood_glucose_level  \n",
       "76807                  130  \n",
       "33445                   90  \n",
       "57530                  200  \n",
       "40106                   90  \n",
       "53119                  100  "
      ]
     },
     "execution_count": 27,
     "metadata": {},
     "output_type": "execute_result"
    }
   ],
   "source": [
    "#numerical features\n",
    "x_test_num=x_test.select_dtypes(include=[\"int32\",\"int64\",\"float64\"])\n",
    "x_test_num.head() "
   ]
  },
  {
   "cell_type": "code",
   "execution_count": 28,
   "id": "1593ee80",
   "metadata": {},
   "outputs": [
    {
     "data": {
      "text/html": [
       "<div>\n",
       "<style scoped>\n",
       "    .dataframe tbody tr th:only-of-type {\n",
       "        vertical-align: middle;\n",
       "    }\n",
       "\n",
       "    .dataframe tbody tr th {\n",
       "        vertical-align: top;\n",
       "    }\n",
       "\n",
       "    .dataframe thead th {\n",
       "        text-align: right;\n",
       "    }\n",
       "</style>\n",
       "<table border=\"1\" class=\"dataframe\">\n",
       "  <thead>\n",
       "    <tr style=\"text-align: right;\">\n",
       "      <th></th>\n",
       "      <th>age</th>\n",
       "      <th>hypertension</th>\n",
       "      <th>heart_disease</th>\n",
       "      <th>bmi</th>\n",
       "      <th>HbA1c_level</th>\n",
       "      <th>blood_glucose_level</th>\n",
       "    </tr>\n",
       "  </thead>\n",
       "  <tbody>\n",
       "    <tr>\n",
       "      <th>76807</th>\n",
       "      <td>-0.970171</td>\n",
       "      <td>-0.290557</td>\n",
       "      <td>-0.205205</td>\n",
       "      <td>-0.265083</td>\n",
       "      <td>-0.962981</td>\n",
       "      <td>-0.202309</td>\n",
       "    </tr>\n",
       "    <tr>\n",
       "      <th>33445</th>\n",
       "      <td>-0.168553</td>\n",
       "      <td>-0.290557</td>\n",
       "      <td>-0.205205</td>\n",
       "      <td>2.188663</td>\n",
       "      <td>-0.683092</td>\n",
       "      <td>-1.182504</td>\n",
       "    </tr>\n",
       "    <tr>\n",
       "      <th>57530</th>\n",
       "      <td>0.276790</td>\n",
       "      <td>-0.290557</td>\n",
       "      <td>-0.205205</td>\n",
       "      <td>-0.540021</td>\n",
       "      <td>0.623057</td>\n",
       "      <td>1.513033</td>\n",
       "    </tr>\n",
       "    <tr>\n",
       "      <th>40106</th>\n",
       "      <td>-0.034950</td>\n",
       "      <td>-0.290557</td>\n",
       "      <td>-0.205205</td>\n",
       "      <td>0.018724</td>\n",
       "      <td>0.902946</td>\n",
       "      <td>-1.182504</td>\n",
       "    </tr>\n",
       "    <tr>\n",
       "      <th>53119</th>\n",
       "      <td>-0.836568</td>\n",
       "      <td>-0.290557</td>\n",
       "      <td>-0.205205</td>\n",
       "      <td>0.000986</td>\n",
       "      <td>-1.895944</td>\n",
       "      <td>-0.937455</td>\n",
       "    </tr>\n",
       "    <tr>\n",
       "      <th>...</th>\n",
       "      <td>...</td>\n",
       "      <td>...</td>\n",
       "      <td>...</td>\n",
       "      <td>...</td>\n",
       "      <td>...</td>\n",
       "      <td>...</td>\n",
       "    </tr>\n",
       "    <tr>\n",
       "      <th>38086</th>\n",
       "      <td>0.900271</td>\n",
       "      <td>3.441660</td>\n",
       "      <td>-0.205205</td>\n",
       "      <td>0.000986</td>\n",
       "      <td>0.436465</td>\n",
       "      <td>1.513033</td>\n",
       "    </tr>\n",
       "    <tr>\n",
       "      <th>63544</th>\n",
       "      <td>0.054119</td>\n",
       "      <td>-0.290557</td>\n",
       "      <td>-0.205205</td>\n",
       "      <td>2.113277</td>\n",
       "      <td>0.996243</td>\n",
       "      <td>0.508333</td>\n",
       "    </tr>\n",
       "    <tr>\n",
       "      <th>33497</th>\n",
       "      <td>1.033874</td>\n",
       "      <td>-0.290557</td>\n",
       "      <td>-0.205205</td>\n",
       "      <td>0.000986</td>\n",
       "      <td>0.529761</td>\n",
       "      <td>-1.182504</td>\n",
       "    </tr>\n",
       "    <tr>\n",
       "      <th>64878</th>\n",
       "      <td>-0.168553</td>\n",
       "      <td>-0.290557</td>\n",
       "      <td>-0.205205</td>\n",
       "      <td>0.000986</td>\n",
       "      <td>0.156575</td>\n",
       "      <td>0.508333</td>\n",
       "    </tr>\n",
       "    <tr>\n",
       "      <th>23519</th>\n",
       "      <td>0.543996</td>\n",
       "      <td>-0.290557</td>\n",
       "      <td>-0.205205</td>\n",
       "      <td>-0.067010</td>\n",
       "      <td>-1.895944</td>\n",
       "      <td>0.532838</td>\n",
       "    </tr>\n",
       "  </tbody>\n",
       "</table>\n",
       "<p>19230 rows × 6 columns</p>\n",
       "</div>"
      ],
      "text/plain": [
       "            age  hypertension  heart_disease       bmi  HbA1c_level  \\\n",
       "76807 -0.970171     -0.290557      -0.205205 -0.265083    -0.962981   \n",
       "33445 -0.168553     -0.290557      -0.205205  2.188663    -0.683092   \n",
       "57530  0.276790     -0.290557      -0.205205 -0.540021     0.623057   \n",
       "40106 -0.034950     -0.290557      -0.205205  0.018724     0.902946   \n",
       "53119 -0.836568     -0.290557      -0.205205  0.000986    -1.895944   \n",
       "...         ...           ...            ...       ...          ...   \n",
       "38086  0.900271      3.441660      -0.205205  0.000986     0.436465   \n",
       "63544  0.054119     -0.290557      -0.205205  2.113277     0.996243   \n",
       "33497  1.033874     -0.290557      -0.205205  0.000986     0.529761   \n",
       "64878 -0.168553     -0.290557      -0.205205  0.000986     0.156575   \n",
       "23519  0.543996     -0.290557      -0.205205 -0.067010    -1.895944   \n",
       "\n",
       "       blood_glucose_level  \n",
       "76807            -0.202309  \n",
       "33445            -1.182504  \n",
       "57530             1.513033  \n",
       "40106            -1.182504  \n",
       "53119            -0.937455  \n",
       "...                    ...  \n",
       "38086             1.513033  \n",
       "63544             0.508333  \n",
       "33497            -1.182504  \n",
       "64878             0.508333  \n",
       "23519             0.532838  \n",
       "\n",
       "[19230 rows x 6 columns]"
      ]
     },
     "execution_count": 28,
     "metadata": {},
     "output_type": "execute_result"
    }
   ],
   "source": [
    "#standardizing the num features \n",
    "\n",
    "x_test_num=pd.DataFrame(scaler.transform(x_test_num),columns=x_test_num.columns,index=x_test_num.index)\n",
    "x_test_num "
   ]
  },
  {
   "cell_type": "code",
   "execution_count": 29,
   "id": "a34be581",
   "metadata": {},
   "outputs": [],
   "source": [
    "X_test=pd.concat([x_test_cat,x_test_num],axis=1) "
   ]
  },
  {
   "cell_type": "markdown",
   "id": "afd4cf31",
   "metadata": {},
   "source": [
    "## To balance the data in the output used smote()"
   ]
  },
  {
   "cell_type": "code",
   "execution_count": 30,
   "id": "a1f45e21",
   "metadata": {},
   "outputs": [],
   "source": [
    "from imblearn.over_sampling import SMOTE"
   ]
  },
  {
   "cell_type": "code",
   "execution_count": 31,
   "id": "42e7152a",
   "metadata": {},
   "outputs": [],
   "source": [
    "s=SMOTE()"
   ]
  },
  {
   "cell_type": "code",
   "execution_count": 32,
   "id": "e2a81a37",
   "metadata": {},
   "outputs": [],
   "source": [
    "x_train,y_train = s.fit_resample(X_train,y_train)"
   ]
  },
  {
   "cell_type": "code",
   "execution_count": 33,
   "id": "d0c893a7",
   "metadata": {},
   "outputs": [
    {
     "data": {
      "text/plain": [
       "(140374, 13)"
      ]
     },
     "execution_count": 33,
     "metadata": {},
     "output_type": "execute_result"
    }
   ],
   "source": [
    "x_train.shape"
   ]
  },
  {
   "cell_type": "code",
   "execution_count": 34,
   "id": "29d966ce",
   "metadata": {},
   "outputs": [
    {
     "data": {
      "text/plain": [
       "0    70187\n",
       "1    70187\n",
       "Name: diabetes, dtype: int64"
      ]
     },
     "execution_count": 34,
     "metadata": {},
     "output_type": "execute_result"
    }
   ],
   "source": [
    "y_train.value_counts()"
   ]
  },
  {
   "cell_type": "markdown",
   "id": "7684ae10",
   "metadata": {},
   "source": [
    "## Building Logical Structure"
   ]
  },
  {
   "cell_type": "code",
   "execution_count": 35,
   "id": "3dc8bc6a",
   "metadata": {},
   "outputs": [],
   "source": [
    "from keras import Sequential \n",
    "from keras.layers import Dense "
   ]
  },
  {
   "cell_type": "code",
   "execution_count": 36,
   "id": "f2b13194",
   "metadata": {},
   "outputs": [],
   "source": [
    "model=Sequential()\n",
    "model.add(Dense(28,activation=\"relu\",use_bias=True,input_dim=13))#input_dim only for first hidden layer\n",
    "model.add(Dense(18,activation=\"relu\",use_bias=True))\n",
    "model.add(Dense(8,activation=\"relu\",use_bias=True))\n",
    "model.add(Dense(1,activation=\"sigmoid\",use_bias=True))  "
   ]
  },
  {
   "cell_type": "code",
   "execution_count": 37,
   "id": "7a8ca68a",
   "metadata": {},
   "outputs": [
    {
     "name": "stdout",
     "output_type": "stream",
     "text": [
      "Model: \"sequential\"\n",
      "_________________________________________________________________\n",
      " Layer (type)                Output Shape              Param #   \n",
      "=================================================================\n",
      " dense (Dense)               (None, 28)                392       \n",
      "                                                                 \n",
      " dense_1 (Dense)             (None, 18)                522       \n",
      "                                                                 \n",
      " dense_2 (Dense)             (None, 8)                 152       \n",
      "                                                                 \n",
      " dense_3 (Dense)             (None, 1)                 9         \n",
      "                                                                 \n",
      "=================================================================\n",
      "Total params: 1075 (4.20 KB)\n",
      "Trainable params: 1075 (4.20 KB)\n",
      "Non-trainable params: 0 (0.00 Byte)\n",
      "_________________________________________________________________\n"
     ]
    }
   ],
   "source": [
    "model.summary()"
   ]
  },
  {
   "cell_type": "code",
   "execution_count": 38,
   "id": "2a9325d0",
   "metadata": {},
   "outputs": [
    {
     "name": "stdout",
     "output_type": "stream",
     "text": [
      "Epoch 1/10\n",
      "1123/1123 [==============================] - 3s 2ms/step - loss: 0.3172 - accuracy: 0.8592 - val_loss: 0.3523 - val_accuracy: 0.8281\n",
      "Epoch 2/10\n",
      "1123/1123 [==============================] - 2s 2ms/step - loss: 0.2397 - accuracy: 0.8895 - val_loss: 0.3418 - val_accuracy: 0.8317\n",
      "Epoch 3/10\n",
      "1123/1123 [==============================] - 2s 2ms/step - loss: 0.2349 - accuracy: 0.8903 - val_loss: 0.3042 - val_accuracy: 0.8560\n",
      "Epoch 4/10\n",
      "1123/1123 [==============================] - 2s 1ms/step - loss: 0.2319 - accuracy: 0.8915 - val_loss: 0.3317 - val_accuracy: 0.8385\n",
      "Epoch 5/10\n",
      "1123/1123 [==============================] - 2s 2ms/step - loss: 0.2295 - accuracy: 0.8928 - val_loss: 0.3083 - val_accuracy: 0.8520\n",
      "Epoch 6/10\n",
      "1123/1123 [==============================] - 2s 2ms/step - loss: 0.2272 - accuracy: 0.8938 - val_loss: 0.3169 - val_accuracy: 0.8488\n",
      "Epoch 7/10\n",
      "1123/1123 [==============================] - 2s 2ms/step - loss: 0.2250 - accuracy: 0.8949 - val_loss: 0.3004 - val_accuracy: 0.8604\n",
      "Epoch 8/10\n",
      "1123/1123 [==============================] - 2s 2ms/step - loss: 0.2226 - accuracy: 0.8965 - val_loss: 0.3006 - val_accuracy: 0.8614\n",
      "Epoch 9/10\n",
      "1123/1123 [==============================] - 2s 2ms/step - loss: 0.2203 - accuracy: 0.8975 - val_loss: 0.2978 - val_accuracy: 0.8611\n",
      "Epoch 10/10\n",
      "1123/1123 [==============================] - 2s 2ms/step - loss: 0.2180 - accuracy: 0.8982 - val_loss: 0.3062 - val_accuracy: 0.8591\n"
     ]
    }
   ],
   "source": [
    "model.compile(optimizer=\"sgd\",loss=\"binary_crossentropy\",metrics=[\"accuracy\"]) \n",
    "history = model.fit(x_train,y_train,batch_size=100,epochs=10,validation_split=0.2) \n"
   ]
  },
  {
   "cell_type": "code",
   "execution_count": 39,
   "id": "11372b8a",
   "metadata": {},
   "outputs": [
    {
     "data": {
      "text/plain": [
       "<matplotlib.legend.Legend at 0x127d6466d00>"
      ]
     },
     "execution_count": 39,
     "metadata": {},
     "output_type": "execute_result"
    },
    {
     "data": {
      "image/png": "[encoded data removed]",
      "text/plain": [
       "<Figure size 640x480 with 1 Axes>"
      ]
     },
     "metadata": {},
     "output_type": "display_data"
    }
   ],
   "source": [
    "plt.plot(range(1,11),history.history[\"loss\"],label=\"train_loss\")\n",
    "plt.plot(range(1,11),history.history[\"val_loss\"],label=\"train_loss\") \n",
    "plt.legend() "
   ]
  },
  {
   "cell_type": "code",
   "execution_count": 40,
   "id": "651c9bee",
   "metadata": {},
   "outputs": [
    {
     "name": "stdout",
     "output_type": "stream",
     "text": [
      "601/601 [==============================] - 1s 890us/step\n"
     ]
    },
    {
     "data": {
      "text/plain": [
       "array([[0.00146802],\n",
       "       [0.00044069],\n",
       "       [0.38353363],\n",
       "       ...,\n",
       "       [0.01806626],\n",
       "       [0.0738435 ],\n",
       "       [0.00210729]], dtype=float32)"
      ]
     },
     "execution_count": 40,
     "metadata": {},
     "output_type": "execute_result"
    }
   ],
   "source": [
    "predicted=model.predict(X_test)\n",
    "predicted "
   ]
  },
  {
   "cell_type": "code",
   "execution_count": 41,
   "id": "9c78d74c",
   "metadata": {},
   "outputs": [
    {
     "data": {
      "text/plain": [
       "array([[0],\n",
       "       [0],\n",
       "       [0],\n",
       "       ...,\n",
       "       [0],\n",
       "       [0],\n",
       "       [0]])"
      ]
     },
     "execution_count": 41,
     "metadata": {},
     "output_type": "execute_result"
    }
   ],
   "source": [
    "predicted=np.where(predicted>0.5,1,0)\n",
    "predicted "
   ]
  },
  {
   "cell_type": "code",
   "execution_count": 42,
   "id": "06288e4d",
   "metadata": {},
   "outputs": [
    {
     "name": "stdout",
     "output_type": "stream",
     "text": [
      "0.9159646385855434\n"
     ]
    },
    {
     "data": {
      "image/png": "[encoded data removed]",
      "text/plain": [
       "<Figure size 640x480 with 2 Axes>"
      ]
     },
     "metadata": {},
     "output_type": "display_data"
    }
   ],
   "source": [
    "\n",
    "from sklearn.metrics import accuracy_score,confusion_matrix,ConfusionMatrixDisplay\n",
    "\n",
    "print(accuracy_score(y_test,predicted)) \n",
    "\n",
    "cm=confusion_matrix(y_test,predicted)\n",
    "\n",
    "va=ConfusionMatrixDisplay(cm)\n",
    "va.plot() \n",
    "plt.show() \n",
    "\n"
   ]
  },
  {
   "cell_type": "code",
   "execution_count": null,
   "id": "be9365b4",
   "metadata": {},
   "outputs": [],
   "source": []
  }
 ],
 "metadata": {
  "kernelspec": {
   "display_name": "Python 3 (ipykernel)",
   "language": "python",
   "name": "python3"
  },
  "language_info": {
   "codemirror_mode": {
    "name": "ipython",
    "version": 3
   },
   "file_extension": ".py",
   "mimetype": "text/x-python",
   "name": "python",
   "nbconvert_exporter": "python",
   "pygments_lexer": "ipython3",
   "version": "3.9.13"
  }
 },
 "nbformat": 4,
 "nbformat_minor": 5
}
